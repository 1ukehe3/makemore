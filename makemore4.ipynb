{
 "cells": [
  {
   "cell_type": "code",
   "execution_count": 8,
   "id": "b46a58e4-1225-4b15-8188-91d3c57311e7",
   "metadata": {},
   "outputs": [],
   "source": [
    "import torch\n",
    "import torch.nn.functional as F\n",
    "import matplotlib.pyplot as plt\n",
    "%matplotlib inline"
   ]
  },
  {
   "cell_type": "code",
   "execution_count": 9,
   "id": "344cc332-c7a6-4143-b051-d1b149e4ed1c",
   "metadata": {},
   "outputs": [],
   "source": [
    "words=open('names.txt','r').read().splitlines()"
   ]
  },
  {
   "cell_type": "code",
   "execution_count": 10,
   "id": "5ee4cf42-2e88-43d6-8806-8840e7d5bdb9",
   "metadata": {},
   "outputs": [
    {
     "name": "stdout",
     "output_type": "stream",
     "text": [
      "27\n",
      "{1: 'a', 2: 'b', 3: 'c', 4: 'd', 5: 'e', 6: 'f', 7: 'g', 8: 'h', 9: 'i', 10: 'j', 11: 'k', 12: 'l', 13: 'm', 14: 'n', 15: 'o', 16: 'p', 17: 'q', 18: 'r', 19: 's', 20: 't', 21: 'u', 22: 'v', 23: 'w', 24: 'x', 25: 'y', 26: 'z', 0: '.'}\n"
     ]
    }
   ],
   "source": [
    "chars=sorted(list(set(''.join(words))))\n",
    "stoi={s:i+1 for i,s in enumerate(chars)}\n",
    "stoi['.']=0\n",
    "itos={i:s for s,i in stoi.items()}\n",
    "vocab_size=len(itos)\n",
    "print(vocab_size)\n",
    "print(itos)"
   ]
  },
  {
   "cell_type": "code",
   "execution_count": 11,
   "id": "b652f09e-562b-487e-b1c5-a62bf6f92afd",
   "metadata": {},
   "outputs": [
    {
     "name": "stdout",
     "output_type": "stream",
     "text": [
      "torch.Size([182625, 3])\n",
      "torch.Size([22655, 3])\n",
      "torch.Size([22866, 3])\n"
     ]
    }
   ],
   "source": [
    "block_size=3\n",
    "\n",
    "def build_dataset(words):\n",
    "  X,Y=[],[]\n",
    "  for w in words:\n",
    "    \n",
    "  \n",
    "    context=[0]*block_size\n",
    "    for ch in w+'.':\n",
    "        ix=stoi[ch]\n",
    "        X.append(context)\n",
    "        Y.append(ix)\n",
    "     \n",
    "        context=context[1:] + [ix]\n",
    "  X=torch.tensor(X)\n",
    "  Y=torch.tensor(Y)\n",
    "  print(X.shape)       \n",
    "  return X,Y\n",
    "     \n",
    "import random\n",
    "random.seed(42)\n",
    "random.shuffle(words)\n",
    "n1=int(0.8*len(words))\n",
    "n2=int(0.9*len(words))\n",
    "\n",
    "Xtr,Ytr =build_dataset(words[:n1]) #80%\n",
    "Xdev,Ydev=build_dataset(words[n1:n2])#10%\n",
    "Xte,Yte=build_dataset(words[n2:])#10%\n"
   ]
  },
  {
   "cell_type": "code",
   "execution_count": 12,
   "id": "733c50ec-3897-4d9c-9bae-d91a7b073034",
   "metadata": {},
   "outputs": [],
   "source": [
    "def cmp(s,dt,t):\n",
    "    \n",
    "    ex =torch.all(dt==t.grad).item()\n",
    "    app=torch.allclose(dt,t.grad)\n",
    "    maxdiff=(dt-t.grad).abs().max().item()\n",
    "    print(f'{s:15s}|exact:{str(ex):5s}|approximate:{str(app):5s}|maxdiff:{maxdiff}')"
   ]
  },
  {
   "cell_type": "code",
   "execution_count": 13,
   "id": "c46c9c01-c2f1-41a6-a251-2e6e9a94b4ea",
   "metadata": {},
   "outputs": [
    {
     "name": "stdout",
     "output_type": "stream",
     "text": [
      "4137\n"
     ]
    }
   ],
   "source": [
    "n_embd=10\n",
    "n_hidden=64\n",
    "\n",
    "g=torch.Generator().manual_seed(2147483647)\n",
    "C=torch.randn((vocab_size,n_embd),          generator=g)\n",
    "#一层\n",
    "W1=torch.randn((n_embd*block_size,n_hidden),generator=g)*(5/3)/((n_embd*block_size)**0.5)\n",
    "b1=torch.randn(n_hidden,                   generator=g)*0.1\n",
    "#二层\n",
    "W2=torch.randn((n_hidden,vocab_size),       generator=g)*0.1\n",
    "b2=torch.randn(vocab_size,                  generator=g)*0.1\n",
    "#批量参数\n",
    "bngain=torch.ones((1,n_hidden))*0.1+1.0\n",
    "bnbias=torch.zeros((1,n_hidden))*0.1\n",
    "\n",
    "#bnmean_running=torch.zeros((1,n_hidden))\n",
    "#bnstd_running=torch.ones((1,n_hidden))\n",
    "parameters=[C,W1,b1,W2,b2,bngain,bnbias]\n",
    "print(sum(p.nelement() for p in parameters))\n",
    "\n",
    "for p in parameters:\n",
    "     p.requires_grad=True"
   ]
  },
  {
   "cell_type": "code",
   "execution_count": 14,
   "id": "63f17df6-dc4b-40f8-8f77-97238ff5af29",
   "metadata": {},
   "outputs": [],
   "source": [
    "batch_size=32\n",
    "n=batch_size\n",
    "ix=torch.randint(0,Xtr.shape[0],(batch_size,),generator=g)\n",
    "#构建小型\n",
    "Xb,Yb=Xtr[ix],Ytr[ix]"
   ]
  },
  {
   "cell_type": "code",
   "execution_count": 15,
   "id": "8c98559c-66e0-47e7-bf64-907d13d2eec8",
   "metadata": {},
   "outputs": [
    {
     "data": {
      "text/plain": [
       "tensor(3.3482, grad_fn=<NegBackward0>)"
      ]
     },
     "execution_count": 15,
     "metadata": {},
     "output_type": "execute_result"
    }
   ],
   "source": [
    "    emb=C[Xb]\n",
    "    embcat=emb.view(emb.shape[0],-1) #把字符嵌入到向量中\n",
    "\n",
    "#线性变换层一层\n",
    "    hprebn=embcat@W1+b1 #隐藏层预激活\n",
    "\n",
    "#标准化层，输入批次数据进行标准化处理\n",
    "    bnmeani=1/n*hprebn.sum(0,keepdim=True)\n",
    "    bndiff=hprebn-bnmeani\n",
    "    bndiff2=bndiff**2\n",
    "    bnvar=1/(n-1)*(bndiff2).sum(0,keepdim=True)\n",
    "    bnvar_inv=(bnvar+1e-5)**-0.5\n",
    "    bnraw=bndiff*bnvar_inv\n",
    "    hpreact=bngain*bnraw+bnbias\n",
    "\n",
    "#非线性\n",
    "    h=torch.tanh(hpreact)\n",
    "#线性变换二层\n",
    "    logits=h@W2+b2\n",
    "#最交叉熵损失\n",
    "    logit_maxes=logits.max(1,keepdim=True).values\n",
    "    norm_logits=logits -logit_maxes\n",
    "    counts=norm_logits.exp()\n",
    "    counts_sum=counts.sum(1,keepdim=True)\n",
    "    counts_sum_inv=counts_sum**-1\n",
    "    probs=counts*counts_sum_inv\n",
    "    logprobs=probs.log()\n",
    "    loss=-logprobs[range(n),Yb].mean()\n",
    "\n",
    "    for p in parameters:\n",
    "       p.grad = None\n",
    "    for t in [logprobs,probs,counts,counts_sum,counts_sum_inv,\n",
    "              bnvar_inv,norm_logits,logit_maxes,logits,h,hpreact,\n",
    "              bnraw,bnvar,bndiff2,bndiff,hprebn,bnmeani,\n",
    "              embcat,emb]:\n",
    "        t.retain_grad()\n",
    "        \n",
    "    loss.backward()\n",
    "    loss"
   ]
  },
  {
   "cell_type": "code",
   "execution_count": 16,
   "id": "35e83546-1bbf-4e44-a763-a642d0763723",
   "metadata": {},
   "outputs": [
    {
     "name": "stdout",
     "output_type": "stream",
     "text": [
      "logprobs       |exact:True |approximate:True |maxdiff:0.0\n",
      "probs          |exact:True |approximate:True |maxdiff:0.0\n",
      "counts_sum_inv |exact:True |approximate:True |maxdiff:0.0\n",
      "counts_sum     |exact:True |approximate:True |maxdiff:0.0\n",
      "counts         |exact:True |approximate:True |maxdiff:0.0\n",
      "norm_logits    |exact:True |approximate:True |maxdiff:0.0\n",
      "logit_maxes    |exact:True |approximate:True |maxdiff:0.0\n",
      "logits         |exact:True |approximate:True |maxdiff:0.0\n",
      "h              |exact:True |approximate:True |maxdiff:0.0\n",
      "b2             |exact:True |approximate:True |maxdiff:0.0\n",
      "hpreact        |exact:True |approximate:True |maxdiff:0.0\n",
      "bngain         |exact:True |approximate:True |maxdiff:0.0\n",
      "bnbias         |exact:True |approximate:True |maxdiff:0.0\n",
      "bnraw          |exact:True |approximate:True |maxdiff:0.0\n",
      "bndiff         |exact:True |approximate:True |maxdiff:0.0\n",
      "bnvar_inv      |exact:True |approximate:True |maxdiff:0.0\n",
      "bnvar          |exact:True |approximate:True |maxdiff:0.0\n",
      "bndiff2        |exact:True |approximate:True |maxdiff:0.0\n",
      "bndiff         |exact:True |approximate:True |maxdiff:0.0\n",
      "bnmeani        |exact:True |approximate:True |maxdiff:0.0\n",
      "hprebn         |exact:True |approximate:True |maxdiff:0.0\n",
      "embcat         |exact:True |approximate:True |maxdiff:0.0\n",
      "W1             |exact:True |approximate:True |maxdiff:0.0\n",
      "b1             |exact:True |approximate:True |maxdiff:0.0\n",
      "emb            |exact:True |approximate:True |maxdiff:0.0\n",
      "C              |exact:True |approximate:True |maxdiff:0.0\n"
     ]
    }
   ],
   "source": [
    "#向前传递\n",
    "dlogprobs=torch.zeros_like(logprobs)\n",
    "dlogprobs[range(n),Yb]=-1.0/n\n",
    "dprobs=(1.0/probs)*dlogprobs\n",
    "dcounts_sum_inv=(counts*dprobs).sum(1,keepdim=True)\n",
    "dcounts=counts_sum_inv*dprobs\n",
    "dcounts_sum=(-counts_sum**-2)*dcounts_sum_inv\n",
    "dcounts+=torch.ones_like(counts)*dcounts_sum\n",
    "dnorm_logits=counts*dcounts\n",
    "dlogits=dnorm_logits.clone()\n",
    "dlogit_maxes=(-dnorm_logits).sum(1,keepdim=True)\n",
    "dlogits+=F.one_hot(logits.max(1).indices,num_classes=logits.shape[1])*dlogit_maxes\n",
    "dh=dlogits@W2.T\n",
    "dW2=h.T@dlogits\n",
    "db2=dlogits.sum(0)\n",
    "dhpreact=(1.0-h**2)*dh\n",
    "dbngain=(bnraw*dhpreact).sum(0,keepdim=True)\n",
    "dbnraw=bngain*dhpreact\n",
    "dbnbias=dhpreact.sum(0,keepdim=True)\n",
    "dbndiff=bnvar_inv*dbnraw\n",
    "dbnvar_inv=(bndiff*dbnraw).sum(0,keepdim=True)\n",
    "dbnvar=(-0.5*(bnvar+1e-5)**-1.5)*dbnvar_inv\n",
    "dbndiff2=(1.0/(n-1))*torch.ones_like(bndiff2)*dbnvar\n",
    "dbndiff+=(2*bndiff)*dbndiff2\n",
    "dhprebn=dbndiff.clone()\n",
    "dbnmeani=(-dbndiff).sum(0)\n",
    "dhprebn+=1.0/n*(torch.ones_like(hprebn)*dbnmeani)\n",
    "dembcat=dhprebn@W1.T\n",
    "dW1=embcat.T@dhprebn\n",
    "db1=dhprebn.sum(0)\n",
    "demb=dembcat.view(emb.shape)\n",
    "dC=torch.zeros_like(C)\n",
    "for k in range(Xb.shape[0]):\n",
    "    for j in range(Xb.shape[1]):\n",
    "        ix=Xb[k,j]\n",
    "        dC[ix]+=demb[k,j]\n",
    "\n",
    "cmp('logprobs',dlogprobs,logprobs)\n",
    "cmp('probs',dprobs,probs)\n",
    "cmp('counts_sum_inv',dcounts_sum_inv,counts_sum_inv)\n",
    "cmp('counts_sum',dcounts_sum,counts_sum)\n",
    "cmp('counts',dcounts,counts)\n",
    "cmp('norm_logits',dnorm_logits,norm_logits)\n",
    "cmp('logit_maxes',dlogit_maxes,logit_maxes)\n",
    "cmp('logits',dlogits,logits)\n",
    "cmp('h',dh,h)\n",
    "cmp('b2',db2,b2)\n",
    "cmp('hpreact',dhpreact,hpreact)\n",
    "cmp('bngain',dbngain,bngain)\n",
    "cmp('bnbias',dbnbias,bnbias)\n",
    "cmp('bnraw',dbnraw,bnraw)\n",
    "cmp('bndiff',dbndiff,bndiff)\n",
    "cmp('bnvar_inv',dbnvar_inv,bnvar_inv)\n",
    "cmp('bnvar',dbnvar,bnvar)\n",
    "cmp('bndiff2',dbndiff2,bndiff2)\n",
    "cmp('bndiff',dbndiff,bndiff)\n",
    "cmp('bnmeani',dbnmeani,bnmeani)\n",
    "cmp('hprebn',dhprebn,hprebn)\n",
    "cmp('embcat',dembcat,embcat)\n",
    "cmp('W1',dW1,W1)\n",
    "cmp('b1',db1,b1)\n",
    "cmp('emb',demb,emb)\n",
    "cmp('C',dC,C)\n",
    "\n"
   ]
  },
  {
   "cell_type": "code",
   "execution_count": 17,
   "id": "0f19f959-31d0-47cb-afb4-a91bb04fe08a",
   "metadata": {},
   "outputs": [
    {
     "data": {
      "text/plain": [
       "tensor([ 0.0731,  0.0872,  0.0182,  0.0518,  0.0192,  0.0845,  0.0231,  0.0355,\n",
       "        -0.9827,  0.0319,  0.0364,  0.0370,  0.0371,  0.0285,  0.0345,  0.0132,\n",
       "         0.0085,  0.0190,  0.0148,  0.0545,  0.0513,  0.0209,  0.0247,  0.0721,\n",
       "         0.0584,  0.0259,  0.0215], grad_fn=<MulBackward0>)"
      ]
     },
     "execution_count": 17,
     "metadata": {},
     "output_type": "execute_result"
    }
   ],
   "source": [
    "dlogits[0]*n"
   ]
  },
  {
   "cell_type": "code",
   "execution_count": 18,
   "id": "477ed1d0-a08a-4a12-b255-e7bcfabd9b69",
   "metadata": {},
   "outputs": [
    {
     "data": {
      "text/plain": [
       "tensor(4.6566e-10, grad_fn=<SumBackward0>)"
      ]
     },
     "execution_count": 18,
     "metadata": {},
     "output_type": "execute_result"
    }
   ],
   "source": [
    "dlogits[0].sum()"
   ]
  },
  {
   "cell_type": "code",
   "execution_count": 19,
   "id": "f100ac5c-559b-497e-8aba-d7c8e18a38b7",
   "metadata": {},
   "outputs": [
    {
     "data": {
      "text/plain": [
       "tensor([0.0731, 0.0872, 0.0182, 0.0518, 0.0192, 0.0845, 0.0231, 0.0355, 0.0173,\n",
       "        0.0319, 0.0364, 0.0370, 0.0371, 0.0285, 0.0345, 0.0132, 0.0085, 0.0190,\n",
       "        0.0148, 0.0545, 0.0513, 0.0209, 0.0247, 0.0721, 0.0584, 0.0259, 0.0215],\n",
       "       grad_fn=<SelectBackward0>)"
      ]
     },
     "execution_count": 19,
     "metadata": {},
     "output_type": "execute_result"
    }
   ],
   "source": [
    "F.softmax(logits,1)[0]"
   ]
  },
  {
   "cell_type": "code",
   "execution_count": 20,
   "id": "87b8c23e-7527-4ba3-bfbe-6f5c5943d4df",
   "metadata": {},
   "outputs": [
    {
     "data": {
      "text/plain": [
       "<matplotlib.image.AxesImage at 0x21ba8809490>"
      ]
     },
     "execution_count": 20,
     "metadata": {},
     "output_type": "execute_result"
    },
    {
     "data": {
      "image/png": "[encoded data removed]",
      "text/plain": [
       "<Figure size 640x480 with 1 Axes>"
      ]
     },
     "metadata": {},
     "output_type": "display_data"
    }
   ],
   "source": [
    "plt.imshow(F.one_hot(logits.max(1).indices,num_classes=logits.shape[1]))"
   ]
  },
  {
   "cell_type": "code",
   "execution_count": 21,
   "id": "2f3644d2-e2f8-4853-94ec-99b7d9bee12e",
   "metadata": {},
   "outputs": [
    {
     "data": {
      "text/plain": [
       "<matplotlib.image.AxesImage at 0x21ba8b96d10>"
      ]
     },
     "execution_count": 21,
     "metadata": {},
     "output_type": "execute_result"
    },
    {
     "data": {
      "image/png": "[encoded data removed]",
      "text/plain": [
       "<Figure size 800x800 with 1 Axes>"
      ]
     },
     "metadata": {},
     "output_type": "display_data"
    }
   ],
   "source": [
    "plt.figure(figsize=(8,8))\n",
    "plt.imshow(dlogits.detach(),cmap='gray')\n",
    "           "
   ]
  },
  {
   "cell_type": "code",
   "execution_count": 22,
   "id": "8c0b68b1-b555-47f7-af95-0a385d135fc6",
   "metadata": {},
   "outputs": [
    {
     "name": "stdout",
     "output_type": "stream",
     "text": [
      "3.348198175430298 diff 0.0\n"
     ]
    }
   ],
   "source": [
    "loss_fast=F.cross_entropy(logits,Yb)\n",
    "print(loss_fast.item(),'diff',(loss_fast-loss).item())"
   ]
  },
  {
   "cell_type": "code",
   "execution_count": 23,
   "id": "3c5e3a29-030a-495e-bbab-f0bb4aa827cd",
   "metadata": {},
   "outputs": [
    {
     "name": "stdout",
     "output_type": "stream",
     "text": [
      "logits         |exact:False|approximate:True |maxdiff:1.0477378964424133e-08\n"
     ]
    }
   ],
   "source": [
    "#向后传导\n",
    "dlogits=F.softmax(logits,1)\n",
    "dlogits[range(n),Yb]-=1\n",
    "dlogits/=n\n",
    "cmp('logits',dlogits,logits)"
   ]
  },
  {
   "cell_type": "code",
   "execution_count": 24,
   "id": "e8a5f8ec-5d1d-4905-829d-4e3f26874437",
   "metadata": {},
   "outputs": [
    {
     "name": "stdout",
     "output_type": "stream",
     "text": [
      "max diff: tensor(3.6001e-05, grad_fn=<MaxBackward1>)\n"
     ]
    }
   ],
   "source": [
    "hpreact_fast=bngain*(hprebn-hprebn.mean(0,keepdim=True))/torch.sqrt(hprebn.var(0,keepdim=True,unbiased=True))\n",
    "print('max diff:',(hpreact_fast -hpreact).abs().max())"
   ]
  },
  {
   "cell_type": "code",
   "execution_count": 25,
   "id": "9d1ff4f8-0693-4a32-97ce-9b25750df1f3",
   "metadata": {},
   "outputs": [
    {
     "name": "stdout",
     "output_type": "stream",
     "text": [
      "12297\n",
      "      0/ 200000:3.827937\n"
     ]
    }
   ],
   "source": [
    "n_embd=10\n",
    "n_hidden=200\n",
    "\n",
    "g=torch.Generator().manual_seed(2147483647)\n",
    "C=torch.randn((vocab_size,n_embd),          generator=g)\n",
    "#一层\n",
    "W1=torch.randn((n_embd*block_size,n_hidden),generator=g)*(5/3)/((n_embd*block_size)**0.5)\n",
    "b1=torch.randn(n_hidden,                   generator=g)*0.1\n",
    "#二层\n",
    "W2=torch.randn((n_hidden,vocab_size),       generator=g)*0.1\n",
    "b2=torch.randn(vocab_size,                  generator=g)*0.1\n",
    "#批量参数\n",
    "bngain=torch.ones((1,n_hidden))*0.1+1.0\n",
    "bnbias=torch.zeros((1,n_hidden))*0.1\n",
    "\n",
    "#bnmean_running=torch.zeros((1,n_hidden))\n",
    "#bnstd_running=torch.ones((1,n_hidden))\n",
    "parameters=[C,W1,b1,W2,b2,bngain,bnbias]\n",
    "print(sum(p.nelement() for p in parameters))\n",
    "\n",
    "for p in parameters:\n",
    "     p.requires_grad=True\n",
    "\n",
    "max_steps=200000\n",
    "batch_size=32\n",
    "n=batch_size\n",
    "lossi=[]\n",
    "\n",
    "for i in range(max_steps):\n",
    "    \n",
    "    ix=torch.randint(0,Xtr.shape[0],(batch_size,),generator=g)\n",
    "#构建小型\n",
    "    Xb,Yb=Xtr[ix],Ytr[ix]\n",
    "    \n",
    "    emb=C[Xb]\n",
    "    embcat=emb.view(emb.shape[0],-1) #把字符嵌入到向量中\n",
    "\n",
    "#线性变换层一层\n",
    "    hprebn=embcat@W1+b1 #隐藏层预激活\n",
    "\n",
    "#标准化层，输入批次数据进行标准化处理\n",
    "    bnmeani=1/n*hprebn.sum(0,keepdim=True)\n",
    "    bndiff=hprebn-bnmeani\n",
    "    bndiff2=bndiff**2\n",
    "    bnvar=1/(n-1)*(bndiff2).sum(0,keepdim=True)\n",
    "    bnvar_inv=(bnvar+1e-5)**-0.5\n",
    "    bnraw=bndiff*bnvar_inv\n",
    "    hpreact=bngain*bnraw+bnbias\n",
    "\n",
    "#非线性\n",
    "    h=torch.tanh(hpreact)\n",
    "\n",
    "    logits=h@W2+b2\n",
    "    loss=F.cross_entropy(logits,Yb)\n",
    "#最交叉熵损失\n",
    "    #logit_maxes=logits.max(1,keepdim=True).values\n",
    "    #norm_logits=logits -logit_maxes\n",
    "    #counts=norm_logits.exp()\n",
    "    #counts_sum=counts.sum(1,keepdim=True)\n",
    "    #counts_sum_inv=counts_sum**-1\n",
    "    #probs=counts*counts_sum_inv\n",
    "    #logprobs=probs.log()\n",
    "    #loss=-logprobs[range(n),Yb].mean()\n",
    "\n",
    "    for p in parameters:\n",
    "       p.grad = None\n",
    "    loss.backward()\n",
    "#手动反向传播\n",
    "    dlogits=F.softmax(logits,1)\n",
    "    dlogits[range(n),Yb]-=1\n",
    "    dlogits/=n\n",
    "#第二层反向传播   \n",
    "    dh=dlogits@W2.T\n",
    "    dW2=h.T@dlogits\n",
    "    db2=dlogits.sum(0)\n",
    "    #tanh\n",
    "    dhpreact=(1.0-h**2)*dh\n",
    "    #批量反向传播\n",
    "    dbngain=(bnraw*dhpreact).sum(0,keepdim=True)\n",
    "    dbnraw=bngain*dhpreact\n",
    "    dbnbias=dhpreact.sum(0,keepdim=True)\n",
    "    dhprebn=bngain*bnvar_inv/n*(n*dhpreact-dhpreact.sum(0)-n/(n-1)*bnraw*(dhpreact*bnraw).sum(0))\n",
    "    #第一层\n",
    "    dembcat=dhprebn@W1.T\n",
    "    dW1=embcat.T@dhprebn\n",
    "    db1=dhprebn.sum(0)\n",
    "    demb=dembcat.view(emb.shape)\n",
    "    dC=torch.zeros_like(C)\n",
    "    for k in range(Xb.shape[0]):\n",
    "      for j in range(Xb.shape[1]):\n",
    "        ix=Xb[k,j]\n",
    "        dC[ix]+=demb[k,j]\n",
    "   # dC,dW1,dW2,db2,dbngain,dbnbias=None,None,None,None,None,None\n",
    "    grads=[dC,dW1,db1,dW2,db2,dbngain,dbnbias]\n",
    "\n",
    "    lr=0.1 if i<100000 else 0.01\n",
    "    for p , grad in zip(parameters,grads):\n",
    "        p.data+=-lr*p.grad\n",
    "\n",
    "    if i%10000==0:\n",
    "        print(f'{i:7d}/{max_steps:7d}:{loss.item():4f}')\n",
    "    lossi.append(loss.log10().item())\n",
    "\n",
    "    if i>=100:\n",
    "        break\n",
    "    \n"
   ]
  },
  {
   "cell_type": "code",
   "execution_count": 26,
   "id": "b5f44daf-6cda-4643-afb6-5af2d85d1010",
   "metadata": {},
   "outputs": [
    {
     "name": "stdout",
     "output_type": "stream",
     "text": [
      "(27, 10)       |exact:False|approximate:True |maxdiff:1.4901161193847656e-08\n",
      "(30, 200)      |exact:False|approximate:True |maxdiff:1.1175870895385742e-08\n",
      "(200,)         |exact:False|approximate:True |maxdiff:6.868503987789154e-09\n",
      "(200, 27)      |exact:False|approximate:True |maxdiff:1.4901161193847656e-08\n",
      "(27,)          |exact:False|approximate:True |maxdiff:7.450580596923828e-09\n",
      "(1, 200)       |exact:False|approximate:True |maxdiff:2.3283064365386963e-09\n",
      "(1, 200)       |exact:False|approximate:True |maxdiff:4.6566128730773926e-09\n"
     ]
    }
   ],
   "source": [
    "for p,g in zip(parameters,grads):\n",
    "    cmp(str(tuple(p.shape)),g,p)"
   ]
  },
  {
   "cell_type": "code",
   "execution_count": 27,
   "id": "5816402a-5c2a-4260-99ef-2bb433c5361e",
   "metadata": {},
   "outputs": [],
   "source": [
    "with torch.no_grad():\n",
    "    emb=C[Xtr]\n",
    "    embcat=emb.view(emb.shape[0],-1) #把字符嵌入到向量中\n",
    "\n",
    "    #线性变换层一层\n",
    "    hpreact=embcat@W1+b1 #隐藏层预激活\n",
    "    bnmean=hpreact.mean(0,keepdim=True)\n",
    "    bnvar=hpreact.var(0,keepdim=True,unbiased=True)"
   ]
  },
  {
   "cell_type": "code",
   "execution_count": 28,
   "id": "b4fdcd42-976b-4644-baa9-b959556d75e9",
   "metadata": {},
   "outputs": [
    {
     "name": "stdout",
     "output_type": "stream",
     "text": [
      "train 2.8843586444854736\n",
      "val 2.886294364929199\n"
     ]
    }
   ],
   "source": [
    "@torch.no_grad()\n",
    "def split_loss(split):\n",
    "  x,y ={\n",
    "    'train':(Xtr,Ytr),\n",
    "    'val':(Xdev,Ydev),\n",
    "    'test':(Xte,Yte),\n",
    "}[split]\n",
    "  emb =C[x]\n",
    "  embcat=emb.view(emb.shape[0],-1)\n",
    "  h= torch.tanh(embcat @W1+b1)\n",
    "  logits=h@W2+b2\n",
    "  loss=F.cross_entropy(logits,y)\n",
    "  print(split,loss.item())\n",
    "\n",
    "split_loss('train')\n",
    "split_loss('val')"
   ]
  },
  {
   "cell_type": "code",
   "execution_count": 29,
   "id": "f75c3869-dd17-470e-a8a1-3ab92329583b",
   "metadata": {},
   "outputs": [
    {
     "name": "stdout",
     "output_type": "stream",
     "text": [
      "eria.\n",
      "kmyaz.\n",
      "hzelvndhlial.\n",
      "qefmrngejgrneg.\n",
      "azejedie.\n",
      "iulemi.\n",
      "jea.\n",
      "ekein.\n",
      "qoanarieltzi.\n",
      "hvqep.\n",
      "b.\n",
      "shdbn.\n",
      "gxhgries.\n",
      "kkkjrwellqhxntpocfnubz.\n",
      "gvda.\n",
      "kyadul.\n",
      "ehs.\n",
      "kayja.\n",
      "shlyan.\n",
      "hjan.\n"
     ]
    }
   ],
   "source": [
    "g = torch.Generator().manual_seed(2147483647 +10)\n",
    "\n",
    "for _ in range(20):\n",
    "\n",
    "    out=[]\n",
    "    context = [0]*block_size\n",
    "    while True:\n",
    "        \n",
    "      emb =C[torch.tensor([context])]\n",
    "      embcat=emb.view(emb.shape[0],-1)\n",
    "      hpreact=embcat@W1+b1\n",
    "      hpreact=bngain*(hpreact-bnmean)*(bnvar+1e-5)**-0.5+bnbias\n",
    "      h=torch.tanh(hpreact)\n",
    "      logits =h@W2+b2\n",
    "      probs=F.softmax(logits,dim=1)\n",
    "      ix = torch.multinomial(probs,num_samples=1,generator=g).item()\n",
    "      context=context[1:]+[ix]\n",
    "      out.append(ix)\n",
    "\n",
    "      if ix ==0:\n",
    "        break\n",
    "    print(''.join(itos[i] for i in out))  "
   ]
  },
  {
   "cell_type": "code",
   "execution_count": null,
   "id": "53f15fed-97d7-4986-b7e8-b7719471f736",
   "metadata": {},
   "outputs": [],
   "source": []
  }
 ],
 "metadata": {
  "kernelspec": {
   "display_name": "Python 3 (ipykernel)",
   "language": "python",
   "name": "python3"
  },
  "language_info": {
   "codemirror_mode": {
    "name": "ipython",
    "version": 3
   },
   "file_extension": ".py",
   "mimetype": "text/x-python",
   "name": "python",
   "nbconvert_exporter": "python",
   "pygments_lexer": "ipython3",
   "version": "3.11.9"
  }
 },
 "nbformat": 4,
 "nbformat_minor": 5
}
