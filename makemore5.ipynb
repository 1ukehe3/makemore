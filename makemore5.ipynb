{
 "cells": [
  {
   "cell_type": "code",
   "execution_count": 2,
   "id": "8a8a01cb-c659-4227-a9cc-e16f29a0a4ee",
   "metadata": {},
   "outputs": [],
   "source": [
    "import torch\n",
    "import torch.nn.functional as F\n",
    "import matplotlib.pyplot as plt\n",
    "%matplotlib inline"
   ]
  },
  {
   "cell_type": "code",
   "execution_count": 3,
   "id": "0c5c3e3c-a8a2-442e-9fd1-a69e644e68f4",
   "metadata": {},
   "outputs": [],
   "source": [
    "words=open('names.txt','r').read().splitlines()"
   ]
  },
  {
   "cell_type": "code",
   "execution_count": 4,
   "id": "dadba759-2833-4eaa-b4af-dff243fb8057",
   "metadata": {},
   "outputs": [
    {
     "name": "stdout",
     "output_type": "stream",
     "text": [
      "27\n",
      "{1: 'a', 2: 'b', 3: 'c', 4: 'd', 5: 'e', 6: 'f', 7: 'g', 8: 'h', 9: 'i', 10: 'j', 11: 'k', 12: 'l', 13: 'm', 14: 'n', 15: 'o', 16: 'p', 17: 'q', 18: 'r', 19: 's', 20: 't', 21: 'u', 22: 'v', 23: 'w', 24: 'x', 25: 'y', 26: 'z', 0: '.'}\n"
     ]
    }
   ],
   "source": [
    "chars=sorted(list(set(''.join(words))))\n",
    "stoi={s:i+1 for i,s in enumerate(chars)}\n",
    "stoi['.']=0\n",
    "itos={i:s for s,i in stoi.items()}\n",
    "vocab_size=len(itos)\n",
    "print(vocab_size)\n",
    "print(itos)"
   ]
  },
  {
   "cell_type": "code",
   "execution_count": 14,
   "id": "8c4847ce-7358-4b32-b64b-c6beb9e3a6c0",
   "metadata": {},
   "outputs": [
    {
     "name": "stdout",
     "output_type": "stream",
     "text": [
      "torch.Size([182580, 8])\n",
      "torch.Size([22767, 8])\n",
      "torch.Size([22799, 8])\n"
     ]
    }
   ],
   "source": [
    "#预测第九个字符\n",
    "block_size=8\n",
    "\n",
    "def build_dataset(words):\n",
    "  X,Y=[],[]\n",
    "  for w in words:\n",
    "    \n",
    "  \n",
    "    context=[0]*block_size\n",
    "    for ch in w+'.':\n",
    "        ix=stoi[ch]\n",
    "        X.append(context)\n",
    "        Y.append(ix)\n",
    "     \n",
    "        context=context[1:] + [ix]\n",
    "  X=torch.tensor(X)\n",
    "  Y=torch.tensor(Y)\n",
    "  print(X.shape)       \n",
    "  return X,Y\n",
    "     \n",
    "import random\n",
    "random.seed(42)\n",
    "random.shuffle(words)\n",
    "n1=int(0.8*len(words))\n",
    "n2=int(0.9*len(words))\n",
    "\n",
    "Xtr,Ytr =build_dataset(words[:n1]) #80%\n",
    "Xdev,Ydev=build_dataset(words[n1:n2])#10%\n",
    "Xte,Yte=build_dataset(words[n2:])#10%\n"
   ]
  },
  {
   "cell_type": "code",
   "execution_count": 15,
   "id": "c1876c70-23be-4064-a77d-30a4ec43a7b8",
   "metadata": {},
   "outputs": [
    {
     "name": "stdout",
     "output_type": "stream",
     "text": [
      "22097\n"
     ]
    }
   ],
   "source": [
    "#线性\n",
    "class Linear:\n",
    "\n",
    "    def __init__(self,fan_in,fan_out,bias=True):\n",
    "       self.weight=torch.randn((fan_in,fan_out),generator=g)/fan_in**0.5  #权重\n",
    "       self.bias=torch.zeros(fan_out) if bias else None                   #偏差\n",
    "    def __call__(self,x):\n",
    "        self.out=x@self.weight\n",
    "        if self.bias is not None:\n",
    "          self.out+=self.bias\n",
    "        return self.out\n",
    "    def parameters(self):\n",
    "        return [self.weight] + ([] if self.bias is None else [self.bias])\n",
    "\n",
    "#批量标准化线性层\n",
    "\n",
    "class BatchNormld:\n",
    "\n",
    "    def __init__(self,dim,eps=1e-5,momentum=0.1):\n",
    "        self.eps=eps\n",
    "        self.momentum=momentum\n",
    "        self.training=True\n",
    "        self.gamma=torch.ones(dim) \n",
    "        self.beta=torch.zeros(dim) \n",
    "        self.running_mean=torch.zeros(dim)\n",
    "        self.running_var=torch.ones(dim)\n",
    "\n",
    "    def __call__(self,x):\n",
    "        \n",
    "         if self.training:\n",
    "             xmean=x.mean(0,keepdim=True) #均值\n",
    "             xvar=x.var(0,keepdim=True) #方差\n",
    "         else:\n",
    "             xmean =self.running_mean\n",
    "             xvar=self.running_var\n",
    "         xhat=(x-xmean)/torch.sqrt(xvar+self.eps)#数据标准化\n",
    "         self.out=self.gamma*xhat+self.beta\n",
    "       #更新模型运行均值和方差\n",
    "         if self.training:\n",
    "             with torch.no_grad():\n",
    "                self.running_mean=(1-self.momentum)*self.running_mean+self.momentum*xmean\n",
    "                self.running_var=(1-self.momentum)*self.running_var+self.momentum*xvar\n",
    "             return self.out\n",
    "       #模型参数\n",
    "    def parameters(self):\n",
    "          \n",
    "          return[self.gamma,self.beta]\n",
    "#非线性层\n",
    "class Tanh:\n",
    "    \n",
    "    def __call__(self,x):\n",
    "      self.out=torch.tanh(x)\n",
    "      return self.out\n",
    "    def parameters(self):\n",
    "        return[]\n",
    "\n",
    "class Embedding:\n",
    "    def __init__(self,num_embeddings,embedding_dim):\n",
    "        self.weight=torch.randn((num_embeddings,embedding_dim))\n",
    "    def __call__(self,IX):\n",
    "        self.out=self.weight[IX]\n",
    "        return self.out\n",
    "    def parameters(self):\n",
    "        return [self.weight]\n",
    "\n",
    "class FlattenConsecutive:\n",
    "    \n",
    "    def __init__(self,n):\n",
    "        self.n=n\n",
    "        \n",
    "    def __call__(self,x):\n",
    "        B,T,C=x.shape\n",
    "        x=x.view(B,T/self.n,C*self.n)\n",
    "        if x.shape[1]==1:\n",
    "            x=x.squeeze(1)\n",
    "            \n",
    "        self.out=x\n",
    "        return self.out\n",
    "        \n",
    "    def parameters(self):\n",
    "        return[]\n",
    "        \n",
    "class Sequentials:\n",
    "    def __init__(self,layers):\n",
    "      self.layers=layers\n",
    "    def __call__(self,x):\n",
    "       for layer in self.layers:\n",
    "        x=layer(x)\n",
    "       self.out=x\n",
    "       return self.out\n",
    "    def parameters(self):\n",
    "        return [p for layer in self.layers for p in layer.parameters()]\n",
    "\n",
    "#重新定义网络\n",
    "\n",
    "n_embd=10#字符向量嵌入维度\n",
    "n_hidden=200 #多层感知器中隐藏层中的数量\n",
    "g=torch.Generator().manual_seed(2147483647)\n",
    "\n",
    "C=torch.randn((vocab_size,n_embd),  generator=g)\n",
    "model=Sequentials([\n",
    "    Embedding(vocab_size,n_embd),\n",
    "    Flatten(),\n",
    "    Linear(n_embd*block_size,n_hidden,bias=False),BatchNormld(n_hidden),Tanh(),\n",
    "    #Linear(         n_hidden,n_hidden),Tanh(),\n",
    "   # Linear(         n_hidden,n_hidden),Tanh(),\n",
    "   # Linear(         n_hidden,n_hidden),Tanh(),\n",
    "   # Linear(         n_hidden,n_hidden),Tanh(),\n",
    "    Linear(         n_hidden,vocab_size),\n",
    "])\n",
    "\n",
    "with torch.no_grad():\n",
    "    model.layers[-1].weight*=0.1\n",
    "  \n",
    "parameters=model.parameters()\n",
    "print(sum(p.nelement() for p in parameters))\n",
    "for p in parameters:\n",
    "    p.requires_grad=True\n",
    "\n",
    "\n",
    "\n",
    "\n",
    "\n",
    "       \n",
    "    "
   ]
  },
  {
   "cell_type": "code",
   "execution_count": 16,
   "id": "18a93df3-06e2-4631-9e2d-52f4e4fc1603",
   "metadata": {},
   "outputs": [
    {
     "name": "stdout",
     "output_type": "stream",
     "text": [
      "torch.Size([4, 8])\n"
     ]
    },
    {
     "data": {
      "text/plain": [
       "tensor([[ 0,  0,  0,  0, 10, 21, 12,  9],\n",
       "        [ 0,  0,  0,  0,  0,  0,  0,  1],\n",
       "        [ 0,  0,  0,  0,  0,  0, 14,  1],\n",
       "        [ 0, 13,  1,  3,  5, 12, 25, 14]])"
      ]
     },
     "execution_count": 16,
     "metadata": {},
     "output_type": "execute_result"
    }
   ],
   "source": [
    "ix=torch.randint(0,Xtr.shape[0],(4,))\n",
    "Xb,Yb=Xtr[ix],Ytr[ix]\n",
    "logits=model(Xb)\n",
    "print(Xb.shape)\n",
    "Xb"
   ]
  },
  {
   "cell_type": "code",
   "execution_count": 17,
   "id": "e5c92dfc-47ab-4295-98ce-fc92b4db8b3b",
   "metadata": {},
   "outputs": [
    {
     "data": {
      "text/plain": [
       "torch.Size([4, 8, 10])"
      ]
     },
     "execution_count": 17,
     "metadata": {},
     "output_type": "execute_result"
    }
   ],
   "source": [
    "model.layers[0].out.shape"
   ]
  },
  {
   "cell_type": "code",
   "execution_count": 19,
   "id": "a7e7518f-4ecd-4b04-bdc1-90c423daf79f",
   "metadata": {},
   "outputs": [
    {
     "data": {
      "text/plain": [
       "torch.Size([4, 5, 6, 200])"
      ]
     },
     "execution_count": 19,
     "metadata": {},
     "output_type": "execute_result"
    }
   ],
   "source": [
    "(torch.randn(4,4,20)@torch.randn(80,200)+torch.randn(200)).shape"
   ]
  },
  {
   "cell_type": "code",
   "execution_count": 20,
   "id": "6ce6b735-0573-4944-ad47-7d10b29814d0",
   "metadata": {},
   "outputs": [
    {
     "data": {
      "text/plain": [
       "[1, 3, 5, 7, 9]"
      ]
     },
     "execution_count": 20,
     "metadata": {},
     "output_type": "execute_result"
    }
   ],
   "source": [
    "list(range(10))[1::2]"
   ]
  },
  {
   "cell_type": "code",
   "execution_count": 22,
   "id": "c7d280ac-a69e-4483-a09a-651318b7da4c",
   "metadata": {},
   "outputs": [
    {
     "data": {
      "text/plain": [
       "torch.Size([4, 4, 20])"
      ]
     },
     "execution_count": 22,
     "metadata": {},
     "output_type": "execute_result"
    }
   ],
   "source": [
    "e=torch.randn(4,8,10)\n",
    "explicit=torch.cat([e[:,::2,:],e[:,1::2,:]],dim=2)\n",
    "explicit.shape"
   ]
  },
  {
   "cell_type": "code",
   "execution_count": 24,
   "id": "467c09e2-aab1-4967-b799-d20f40aa65f2",
   "metadata": {},
   "outputs": [
    {
     "data": {
      "text/plain": [
       "tensor(True)"
      ]
     },
     "execution_count": 24,
     "metadata": {},
     "output_type": "execute_result"
    }
   ],
   "source": [
    "(e.view(4,4,20)==explicit).all()"
   ]
  },
  {
   "cell_type": "code",
   "execution_count": 9,
   "id": "39538c62-9531-426c-b990-47eab4497c0e",
   "metadata": {},
   "outputs": [
    {
     "name": "stdout",
     "output_type": "stream",
     "text": [
      ":      0/ 200000:3.2128\n",
      ":  10000/ 200000:2.5782\n",
      ":  20000/ 200000:2.1938\n",
      ":  30000/ 200000:2.2912\n",
      ":  40000/ 200000:2.2872\n",
      ":  50000/ 200000:2.0369\n",
      ":  60000/ 200000:2.2671\n",
      ":  70000/ 200000:1.9498\n",
      ":  80000/ 200000:2.0725\n",
      ":  90000/ 200000:1.9501\n",
      ": 100000/ 200000:2.2100\n",
      ": 110000/ 200000:1.7274\n",
      ": 120000/ 200000:2.1429\n",
      ": 130000/ 200000:2.7751\n",
      ": 140000/ 200000:1.8559\n",
      ": 150000/ 200000:2.1466\n",
      ": 160000/ 200000:2.1414\n",
      ": 170000/ 200000:1.9989\n",
      ": 180000/ 200000:1.8397\n",
      ": 190000/ 200000:1.8121\n"
     ]
    }
   ],
   "source": [
    "max_steps=200000\n",
    "batch_size=32\n",
    "lossa=[]\n",
    "ud=[]\n",
    "\n",
    "for i in range(max_steps):\n",
    "    \n",
    "    ix=torch.randint(0,Xtr.shape[0],(batch_size,))\n",
    "    Xb,Yb=Xtr[ix],Ytr[ix]\n",
    "#向前传递\n",
    "    #emb=C[Xb]\n",
    "    #x=emb.view(emb.shape[0],-1)\n",
    "    logits=model(Xb)\n",
    "  \n",
    "   \n",
    "    loss = F.cross_entropy(logits,Yb)#损失函数\n",
    "  \n",
    "    for p in parameters:\n",
    "       p.grad = None\n",
    "    loss.backward()\n",
    "\n",
    "    lr =0.1 if i<100000 else 0.01 #速率\n",
    "    for p in parameters:\n",
    "        if p.grad is not None:\n",
    "           p.data += -lr * p.grad\n",
    "      \n",
    "\n",
    "    if i%10000 == 0:\n",
    "      print(f':{i:7d}/{max_steps:7d}:{loss.item():.4f}')\n",
    "    lossa.append(loss.log10().item())   \n",
    "   # with torch.no_grad():\n",
    "   #   ud.append([(lr*p.grad.std()/p.data.std()).log().item() for p in parameters])\n",
    "\n",
    "\n",
    "    \n",
    "\n",
    "    "
   ]
  },
  {
   "cell_type": "code",
   "execution_count": 10,
   "id": "001757c0-1edc-4873-b3c7-cd5fcdfd947e",
   "metadata": {},
   "outputs": [
    {
     "data": {
      "text/plain": [
       "[<matplotlib.lines.Line2D at 0x1aaf3c50690>]"
      ]
     },
     "execution_count": 10,
     "metadata": {},
     "output_type": "execute_result"
    },
    {
     "data": {
      "image/png": "[encoded data removed]",
      "text/plain": [
       "<Figure size 640x480 with 1 Axes>"
      ]
     },
     "metadata": {},
     "output_type": "display_data"
    }
   ],
   "source": [
    "plt.plot(torch.tensor(lossa).view(-1,1000).mean(1))"
   ]
  },
  {
   "cell_type": "code",
   "execution_count": null,
   "id": "ec618a1b-d8c3-4f4a-9b9e-7f6787364ae2",
   "metadata": {},
   "outputs": [],
   "source": [
    "torch.arange(10).view(-1,5)"
   ]
  },
  {
   "cell_type": "code",
   "execution_count": null,
   "id": "907d0966-a2a6-47db-bf0e-acdf44676b75",
   "metadata": {},
   "outputs": [],
   "source": [
    "for layer in model.layers:\n",
    "    layer.training=False"
   ]
  },
  {
   "cell_type": "code",
   "execution_count": null,
   "id": "6612676c-6419-4562-a601-fe3a509957df",
   "metadata": {},
   "outputs": [],
   "source": [
    "@torch.no_grad()\n",
    "def split_loss(split):\n",
    "  x,y ={\n",
    "    'train':(Xtr,Ytr),\n",
    "    'val':(Xdev,Ydev),\n",
    "    'test':(Xte,Yte),\n",
    "}[split]\n",
    " \n",
    "  logits=model(x)\n",
    "  loss=F.cross_entropy(logits,y)\n",
    "  print(split,loss.item())\n",
    "\n",
    "split_loss('train')\n",
    "split_loss('val')"
   ]
  },
  {
   "cell_type": "code",
   "execution_count": null,
   "id": "2b2d890b-cd6c-4866-9296-2597c5d51c17",
   "metadata": {},
   "outputs": [],
   "source": [
    "g = torch.Generator().manual_seed(2147483647 +10)\n",
    "\n",
    "for _ in range(20):\n",
    "\n",
    "    out=[]\n",
    "    context = [0]*block_size\n",
    "    while True:\n",
    "        \n",
    "      emb =C[torch.tensor([context])]\n",
    "      embcat=emb.view(emb.shape[0],-1)\n",
    "      hpreact=embcat@W1+b1\n",
    "      hpreact=bngain*(hpreact-bnmean)*(bnvar+1e-5)**-0.5+bnbias\n",
    "      h=torch.tanh(hpreact)\n",
    "      logits =h@W2+b2\n",
    "      probs=F.softmax(logits,dim=1)\n",
    "      ix = torch.multinomial(probs,num_samples=1,generator=g).item()\n",
    "      context=context[1:]+[ix]\n",
    "      out.append(ix)\n",
    "\n",
    "      if ix ==0:\n",
    "        break\n",
    "    print(''.join(itos[i] for i in out))  "
   ]
  },
  {
   "cell_type": "code",
   "execution_count": null,
   "id": "7e4d4429-67f8-48cb-a609-e21815bf7726",
   "metadata": {},
   "outputs": [],
   "source": []
  }
 ],
 "metadata": {
  "kernelspec": {
   "display_name": "Python 3 (ipykernel)",
   "language": "python",
   "name": "python3"
  },
  "language_info": {
   "codemirror_mode": {
    "name": "ipython",
    "version": 3
   },
   "file_extension": ".py",
   "mimetype": "text/x-python",
   "name": "python",
   "nbconvert_exporter": "python",
   "pygments_lexer": "ipython3",
   "version": "3.11.9"
  }
 },
 "nbformat": 4,
 "nbformat_minor": 5
}
