{
 "cells": [
  {
   "cell_type": "code",
   "execution_count": 65,
   "id": "8a8a01cb-c659-4227-a9cc-e16f29a0a4ee",
   "metadata": {},
   "outputs": [],
   "source": [
    "import torch\n",
    "import torch.nn.functional as F\n",
    "import matplotlib.pyplot as plt\n",
    "%matplotlib inline"
   ]
  },
  {
   "cell_type": "code",
   "execution_count": 66,
   "id": "0c5c3e3c-a8a2-442e-9fd1-a69e644e68f4",
   "metadata": {},
   "outputs": [],
   "source": [
    "words=open('toy.text','r',encoding='utf-8').read().splitlines()"
   ]
  },
  {
   "cell_type": "code",
   "execution_count": 67,
   "id": "dadba759-2833-4eaa-b4af-dff243fb8057",
   "metadata": {},
   "outputs": [
    {
     "name": "stdout",
     "output_type": "stream",
     "text": [
      "410\n",
      "{1: '—', 2: '‘', 3: '’', 4: '“', 5: '”', 6: '。', 7: '一', 8: '七', 9: '万', 10: '丈', 11: '上', 12: '下', 13: '不', 14: '且', 15: '世', 16: '业', 17: '两', 18: '丧', 19: '个', 20: '中', 21: '为', 22: '举', 23: '久', 24: '么', 25: '之', 26: '乏', 27: '九', 28: '也', 29: '习', 30: '买', 31: '了', 32: '事', 33: '二', 34: '于', 35: '五', 36: '些', 37: '亲', 38: '人', 39: '什', 40: '仆', 41: '仍', 42: '他', 43: '以', 44: '们', 45: '件', 46: '任', 47: '会', 48: '传', 49: '估', 50: '似', 51: '但', 52: '体', 53: '何', 54: '余', 55: '你', 56: '例', 57: '便', 58: '促', 59: '信', 60: '做', 61: '儿', 62: '先', 63: '八', 64: '六', 65: '关', 66: '养', 67: '再', 68: '凉', 69: '凌', 70: '几', 71: '凭', 72: '出', 73: '击', 74: '分', 75: '则', 76: '刚', 77: '初', 78: '到', 79: '前', 80: '力', 81: '务', 82: '匙', 83: '医', 84: '十', 85: '千', 86: '半', 87: '单', 88: '卜', 89: '卡', 90: '即', 91: '却', 92: '厅', 93: '原', 94: '去', 95: '又', 96: '双', 97: '发', 98: '口', 99: '另', 100: '叩', 101: '只', 102: '叮', 103: '可', 104: '右', 105: '吃', 106: '各', 107: '合', 108: '吉', 109: '同', 110: '名', 111: '向', 112: '吗', 113: '吞', 114: '吧', 115: '听', 116: '吻', 117: '呀', 118: '告', 119: '周', 120: '和', 121: '咳', 122: '喊', 123: '嗤', 124: '囊', 125: '四', 126: '回', 127: '因', 128: '团', 129: '围', 130: '在', 131: '地', 132: '场', 133: '坐', 134: '坚', 135: '堪', 136: '声', 137: '处', 138: '多', 139: '夜', 140: '够', 141: '大', 142: '天', 143: '太', 144: '夫', 145: '头', 146: '套', 147: '女', 148: '她', 149: '好', 150: '如', 151: '妻', 152: '姆', 153: '始', 154: '姐', 155: '姿', 156: '子', 157: '字', 158: '学', 159: '守', 160: '安', 161: '实', 162: '害', 163: '家', 164: '寒', 165: '对', 166: '将', 167: '小', 168: '少', 169: '尔', 170: '尖', 171: '就', 172: '尽', 173: '左', 174: '己', 175: '已', 176: '巴', 177: '常', 178: '帽', 179: '干', 180: '年', 181: '幸', 182: '底', 183: '座', 184: '开', 185: '引', 186: '弗', 187: '弹', 188: '当', 189: '得', 190: '心', 191: '必', 192: '忙', 193: '忡', 194: '忧', 195: '忽', 196: '怎', 197: '思', 198: '急', 199: '性', 200: '总', 201: '息', 202: '情', 203: '惯', 204: '意', 205: '慌', 206: '慎', 207: '慢', 208: '成', 209: '我', 210: '所', 211: '手', 212: '才', 213: '打', 214: '扬', 215: '把', 216: '拉', 217: '拖', 218: '拿', 219: '挂', 220: '据', 221: '接', 222: '播', 223: '操', 224: '故', 225: '效', 226: '散', 227: '整', 228: '文', 229: '斯', 230: '方', 231: '族', 232: '无', 233: '日', 234: '旦', 235: '旧', 236: '早', 237: '时', 238: '明', 239: '星', 240: '春', 241: '是', 242: '晨', 243: '智', 244: '更', 245: '月', 246: '有', 247: '服', 248: '期', 249: '村', 250: '来', 251: '杯', 252: '林', 253: '果', 254: '查', 255: '样', 256: '桓', 257: '楚', 258: '正', 259: '死', 260: '段', 261: '毒', 262: '比', 263: '毛', 264: '求', 265: '没', 266: '沮', 267: '沸', 268: '波', 269: '洛', 270: '消', 271: '添', 272: '清', 273: '灾', 274: '炎', 275: '点', 276: '烦', 277: '然', 278: '照', 279: '熏', 280: '爱', 281: '状', 282: '犹', 283: '猜', 284: '猫', 285: '玄', 286: '琳', 287: '生', 288: '用', 289: '由', 290: '留', 291: '略', 292: '症', 293: '的', 294: '皆', 295: '皇', 296: '盘', 297: '目', 298: '直', 299: '相', 300: '看', 301: '真', 302: '着', 303: '知', 304: '短', 305: '砒', 306: '磨', 307: '秋', 308: '称', 309: '窍', 310: '第', 311: '答', 312: '简', 313: '管', 314: '簧', 315: '索', 316: '约', 317: '组', 318: '终', 319: '经', 320: '绝', 321: '绰', 322: '老', 323: '而', 324: '职', 325: '肉', 326: '胃', 327: '能', 328: '脸', 329: '自', 330: '至', 331: '茶', 332: '薄', 333: '虽', 334: '蛋', 335: '衣', 336: '表', 337: '被', 338: '袭', 339: '装', 340: '要', 341: '见', 342: '觉', 343: '詹', 344: '计', 345: '认', 346: '许', 347: '论', 348: '诀', 349: '诉', 350: '诊', 351: '话', 352: '语', 353: '说', 354: '请', 355: '谁', 356: '调', 357: '谨', 358: '豫', 359: '贩', 360: '购', 361: '走', 362: '路', 363: '蹭', 364: '辑', 365: '边', 366: '过', 367: '还', 368: '这', 369: '进', 370: '送', 371: '透', 372: '逻', 373: '道', 374: '那', 375: '都', 376: '酒', 377: '酗', 378: '里', 379: '重', 380: '钟', 381: '钥', 382: '铭', 383: '锁', 384: '锐', 385: '错', 386: '长', 387: '门', 388: '问', 389: '间', 390: '霜', 391: '露', 392: '青', 393: '非', 394: '面', 395: '预', 396: '颇', 397: '颊', 398: '风', 399: '餐', 400: '饭', 401: '鬃', 402: '鸡', 403: '麻', 404: '黎', 405: '鼬', 406: '鼻', 407: '，', 408: '：', 409: '？', 0: '.'}\n"
     ]
    }
   ],
   "source": [
    "chars=sorted(list(set(''.join(words))))\n",
    "stoi={s:i+1 for i,s in enumerate(chars)}\n",
    "stoi['.']=0\n",
    "itos={i:s for s,i in stoi.items()}\n",
    "vocab_size=len(itos)\n",
    "print(vocab_size)\n",
    "print(itos)"
   ]
  },
  {
   "cell_type": "code",
   "execution_count": 68,
   "id": "e2a926d9-b134-44d2-afa1-a6783aee6d70",
   "metadata": {},
   "outputs": [
    {
     "name": "stdout",
     "output_type": "stream",
     "text": [
      "['弗拉尔斯太太死于九月十六日夜里至十七日凌晨之间，', '那是星期四。', '第二天是星期五，', '早上八点就有人请我过去，', '但已无力回天，', '她死去好几个小时了。', '九点刚过几分，', '我回到家，', '用钥匙开了前门的弹簧锁，', '故意在玄关磨蹭了一会儿，', '慢吞吞地挂好帽子和薄大衣。', '初秋的清晨寒意袭人，', '幸好我颇有先见之明，', '添了衣服。', '说实话，', '我那时相当沮丧，', '忧心忡忡。', '虽然当时我不可能预见到接下来几周的风波——我绝对不会那么做——但直觉却告诉我接下来的日子会麻烦重重。', '左边的餐厅里传来叮叮的茶杯叩击声，', '还有姐姐卡洛琳短促的干咳。', '“', '是你吗，', '詹姆斯？', '”', '她喊道。', '多余一问。', '不然还能是谁？', '老实说，', '我刚才拖拖拉拉好几分钟，', '就是因为卡洛琳。', '“', '出去把事情查个清楚”', '是猫鼬家族的座右铭——这是文学家吉卜林说的。', '如果卡洛琳长出鬃毛，', '我们家可就猫鼬成灾了。', '“', '出去把事情查个清楚”', '的前两个字大可忽略，', '即便卡洛琳安坐家中，', '消息也能送上门来。', '她的诀窍我猜不透，', '但效果一目了然。', '估计她的智囊团是由村里的各路仆人和小贩们组成的。', '一旦她出门，', '目的可就不是打听消息了，', '而是散播消息。', '在这方面，', '她的天才也堪称举世无双。', '正因为她这人尽皆知的个性，', '我才犹犹豫豫，', '能拖则拖。', '关于弗拉尔斯太太之死，', '无论我向卡洛琳透露多少口风，', '不出一个半小时，', '整个村子必将传得沸沸扬扬。', '出于一名医生的职业操守，', '我自然务求谨慎，', '所以久而久之就养成了一个习惯：', '任何消息都对姐姐留一手。', '虽然她到头来照样能查个一清二楚，', '但只要过错不在我，', '我也就心安了。', '弗拉尔斯太太的丈夫一年前刚去世，', '卡洛琳始终坚信他是被妻子下毒害死的，', '却又拿不出半点真凭实据。', '我一再表明，', '弗拉尔斯先生死于习惯性酗酒引发的急性胃炎，', '可她总是嗤之以鼻。', '急性胃炎和砒霜中毒的症状不乏相似之处，', '这一点我也认同，', '但卡洛琳另有自己的一套逻辑。', '“', '你只要看看她就知道了。', '”', '这是她的原话。', '弗拉尔斯太太虽然青春不再，', '仍旧风姿绰约，', '而且她的衣着尽管简单，', '却总是非常合体。', '不过话说回来，', '去巴黎购买时装的女人成千上万，', '总不见得人人都会毒死丈夫吧。', '我在玄关盘桓了许久，', '思索着这些事。', '卡洛琳又喊了一声，', '语调比刚才更尖锐：', '“', '你到底在干什么，', '詹姆斯？', '怎么还不来吃早饭？', '”', '“', '来了来了，', '亲爱的，', '”', '我慌忙答道，', '“', '刚才在挂大衣。', '”', '“', '这段时间够你挂五六件大衣了。', '”', '她说得一点儿没错。', '我走进餐厅，', '照例吻了吻卡洛琳的脸颊，', '坐下开始吃鸡蛋和熏肉。', '熏肉已经凉了。', '“', '一大早就出诊呀。', '”', '卡洛琳说。', '“', '对，', '”', '我回答，', '“', '去了‘', '皇家围场’', '。', '弗拉尔斯太太出事了。', '”']\n"
     ]
    }
   ],
   "source": [
    "import re\n",
    "with open('toy.text', 'r', encoding='utf-8') as file:\n",
    "    text = file.read()\n",
    "# 根据符号划分成字符串，去除换行符\n",
    "symbols = ['。', '，', '；', '！', '？', '、', '：', '“', '”', '‘', '’', '（', '）']\n",
    "for symbol in symbols:\n",
    "    text = text.replace(symbol + '\\n', symbol)\n",
    "\n",
    "# 根据符号划分成字符串，组成数组\n",
    "sentences = []\n",
    "current_sentence = ''\n",
    "for char in text:\n",
    "    if char in symbols:\n",
    "           current_sentence += char\n",
    "           sentences.append(current_sentence)\n",
    "           current_sentence = ''\n",
    "    else:\n",
    "           current_sentence += char\n",
    "\n",
    "# 打印结果\n",
    "print(sentences)\n"
   ]
  },
  {
   "cell_type": "code",
   "execution_count": 69,
   "id": "e0e99091-4dbe-40bb-b6e0-553dec90b26f",
   "metadata": {},
   "outputs": [
    {
     "data": {
      "text/plain": [
       "['弗拉尔斯太太死于九月十六日夜里至十七日凌晨之间，',\n",
       " '那是星期四。',\n",
       " '第二天是星期五，',\n",
       " '早上八点就有人请我过去，',\n",
       " '但已无力回天，',\n",
       " '她死去好几个小时了。',\n",
       " '九点刚过几分，',\n",
       " '我回到家，',\n",
       " '用钥匙开了前门的弹簧锁，',\n",
       " '故意在玄关磨蹭了一会儿，',\n",
       " '慢吞吞地挂好帽子和薄大衣。',\n",
       " '初秋的清晨寒意袭人，',\n",
       " '幸好我颇有先见之明，',\n",
       " '添了衣服。',\n",
       " '说实话，',\n",
       " '我那时相当沮丧，',\n",
       " '忧心忡忡。',\n",
       " '虽然当时我不可能预见到接下来几周的风波——我绝对不会那么做——但直觉却告诉我接下来的日子会麻烦重重。',\n",
       " '左边的餐厅里传来叮叮的茶杯叩击声，',\n",
       " '还有姐姐卡洛琳短促的干咳。',\n",
       " '“',\n",
       " '是你吗，',\n",
       " '詹姆斯？',\n",
       " '”',\n",
       " '她喊道。',\n",
       " '多余一问。',\n",
       " '不然还能是谁？',\n",
       " '老实说，',\n",
       " '我刚才拖拖拉拉好几分钟，',\n",
       " '就是因为卡洛琳。',\n",
       " '“',\n",
       " '出去把事情查个清楚”',\n",
       " '是猫鼬家族的座右铭——这是文学家吉卜林说的。',\n",
       " '如果卡洛琳长出鬃毛，',\n",
       " '我们家可就猫鼬成灾了。',\n",
       " '“',\n",
       " '出去把事情查个清楚”',\n",
       " '的前两个字大可忽略，',\n",
       " '即便卡洛琳安坐家中，',\n",
       " '消息也能送上门来。',\n",
       " '她的诀窍我猜不透，',\n",
       " '但效果一目了然。',\n",
       " '估计她的智囊团是由村里的各路仆人和小贩们组成的。',\n",
       " '一旦她出门，',\n",
       " '目的可就不是打听消息了，',\n",
       " '而是散播消息。',\n",
       " '在这方面，',\n",
       " '她的天才也堪称举世无双。',\n",
       " '正因为她这人尽皆知的个性，',\n",
       " '我才犹犹豫豫，',\n",
       " '能拖则拖。',\n",
       " '关于弗拉尔斯太太之死，',\n",
       " '无论我向卡洛琳透露多少口风，',\n",
       " '不出一个半小时，',\n",
       " '整个村子必将传得沸沸扬扬。',\n",
       " '出于一名医生的职业操守，',\n",
       " '我自然务求谨慎，',\n",
       " '所以久而久之就养成了一个习惯：',\n",
       " '任何消息都对姐姐留一手。',\n",
       " '虽然她到头来照样能查个一清二楚，',\n",
       " '但只要过错不在我，',\n",
       " '我也就心安了。',\n",
       " '弗拉尔斯太太的丈夫一年前刚去世，',\n",
       " '卡洛琳始终坚信他是被妻子下毒害死的，',\n",
       " '却又拿不出半点真凭实据。',\n",
       " '我一再表明，',\n",
       " '弗拉尔斯先生死于习惯性酗酒引发的急性胃炎，',\n",
       " '可她总是嗤之以鼻。',\n",
       " '急性胃炎和砒霜中毒的症状不乏相似之处，',\n",
       " '这一点我也认同，',\n",
       " '但卡洛琳另有自己的一套逻辑。',\n",
       " '“',\n",
       " '你只要看看她就知道了。',\n",
       " '”',\n",
       " '这是她的原话。',\n",
       " '弗拉尔斯太太虽然青春不再，',\n",
       " '仍旧风姿绰约，',\n",
       " '而且她的衣着尽管简单，',\n",
       " '却总是非常合体。',\n",
       " '不过话说回来，',\n",
       " '去巴黎购买时装的女人成千上万，',\n",
       " '总不见得人人都会毒死丈夫吧。',\n",
       " '我在玄关盘桓了许久，',\n",
       " '思索着这些事。',\n",
       " '卡洛琳又喊了一声，',\n",
       " '语调比刚才更尖锐：',\n",
       " '“',\n",
       " '你到底在干什么，',\n",
       " '詹姆斯？',\n",
       " '怎么还不来吃早饭？',\n",
       " '”',\n",
       " '“',\n",
       " '来了来了，',\n",
       " '亲爱的，',\n",
       " '”',\n",
       " '我慌忙答道，',\n",
       " '“',\n",
       " '刚才在挂大衣。',\n",
       " '”',\n",
       " '“',\n",
       " '这段时间够你挂五六件大衣了。',\n",
       " '”',\n",
       " '她说得一点儿没错。',\n",
       " '我走进餐厅，',\n",
       " '照例吻了吻卡洛琳的脸颊，',\n",
       " '坐下开始吃鸡蛋和熏肉。',\n",
       " '熏肉已经凉了。',\n",
       " '“',\n",
       " '一大早就出诊呀。',\n",
       " '”',\n",
       " '卡洛琳说。',\n",
       " '“',\n",
       " '对，',\n",
       " '”',\n",
       " '我回答，',\n",
       " '“',\n",
       " '去了‘',\n",
       " '皇家围场’',\n",
       " '。',\n",
       " '弗拉尔斯太太出事了。',\n",
       " '”']"
      ]
     },
     "execution_count": 69,
     "metadata": {},
     "output_type": "execute_result"
    }
   ],
   "source": [
    "words=sentences\n",
    "words"
   ]
  },
  {
   "cell_type": "code",
   "execution_count": 70,
   "id": "8c4847ce-7358-4b32-b64b-c6beb9e3a6c0",
   "metadata": {},
   "outputs": [
    {
     "name": "stdout",
     "output_type": "stream",
     "text": [
      "torch.Size([906, 8]) torch.Size([906])\n",
      "torch.Size([99, 8]) torch.Size([99])\n",
      "torch.Size([138, 8]) torch.Size([138])\n"
     ]
    }
   ],
   "source": [
    "#预测第九个字符\n",
    "block_size=8\n",
    "\n",
    "def build_dataset(words):\n",
    "  X,Y=[],[]\n",
    "  for w in words:\n",
    "    \n",
    "  \n",
    "    context=[0]*block_size\n",
    "    for ch in w+'.':\n",
    "        ix=stoi[ch]\n",
    "        X.append(context)\n",
    "        Y.append(ix)\n",
    "     \n",
    "        context=context[1:] + [ix]\n",
    "  X=torch.tensor(X)\n",
    "  Y=torch.tensor(Y)\n",
    "  print(X.shape,Y.shape)       \n",
    "  return X,Y\n",
    "     \n",
    "import random\n",
    "random.seed(42)\n",
    "random.shuffle(words)\n",
    "n1=int(0.8*len(words))\n",
    "n2=int(0.9*len(words))\n",
    "\n",
    "Xtr,Ytr =build_dataset(words[:n1]) #80%\n",
    "Xdev,Ydev=build_dataset(words[n1:n2])#10%\n",
    "Xte,Yte=build_dataset(words[n2:])#10%\n"
   ]
  },
  {
   "cell_type": "code",
   "execution_count": 71,
   "id": "7fd7c628-c752-4122-a6e7-754a7ff6e4ae",
   "metadata": {},
   "outputs": [
    {
     "name": "stdout",
     "output_type": "stream",
     "text": [
      "........ ---> 故\n",
      ".......故 ---> 意\n",
      "......故意 ---> 在\n",
      ".....故意在 ---> 玄\n",
      "....故意在玄 ---> 关\n",
      "...故意在玄关 ---> 磨\n",
      "..故意在玄关磨 ---> 蹭\n",
      ".故意在玄关磨蹭 ---> 了\n",
      "故意在玄关磨蹭了 ---> 一\n",
      "意在玄关磨蹭了一 ---> 会\n",
      "在玄关磨蹭了一会 ---> 儿\n",
      "玄关磨蹭了一会儿 ---> ，\n",
      "关磨蹭了一会儿， ---> .\n",
      "........ ---> 语\n",
      ".......语 ---> 调\n",
      "......语调 ---> 比\n",
      ".....语调比 ---> 刚\n",
      "....语调比刚 ---> 才\n",
      "...语调比刚才 ---> 更\n",
      "..语调比刚才更 ---> 尖\n"
     ]
    }
   ],
   "source": [
    "for x,y in zip(Xtr[:20],Ytr[:20]):\n",
    "    print(''.join(itos[ix.item()] for ix in x ),'--->',itos[y.item()])"
   ]
  },
  {
   "cell_type": "code",
   "execution_count": 72,
   "id": "62e264f6-9751-4908-bd74-1f489ba37101",
   "metadata": {},
   "outputs": [
    {
     "data": {
      "text/plain": [
       "torch.Size([99, 8])"
      ]
     },
     "execution_count": 72,
     "metadata": {},
     "output_type": "execute_result"
    }
   ],
   "source": [
    "Xdev.shape"
   ]
  },
  {
   "cell_type": "code",
   "execution_count": 73,
   "id": "a438e84f-542b-45e3-bf0b-e2dcb1957df1",
   "metadata": {},
   "outputs": [
    {
     "name": "stdout",
     "output_type": "stream",
     "text": [
      "torch.Size([8]) torch.Size([])\n",
      "torch.Size([8]) torch.Size([])\n",
      "torch.Size([8]) torch.Size([])\n",
      "torch.Size([8]) torch.Size([])\n",
      "torch.Size([8]) torch.Size([])\n",
      "torch.Size([8]) torch.Size([])\n",
      "torch.Size([8]) torch.Size([])\n",
      "torch.Size([8]) torch.Size([])\n",
      "torch.Size([8]) torch.Size([])\n",
      "torch.Size([8]) torch.Size([])\n"
     ]
    }
   ],
   "source": [
    "for x,y in zip(Xtr[:10],Ytr[:10]):\n",
    "    \n",
    "    print(x.shape,y.shape)\n",
    "    "
   ]
  },
  {
   "cell_type": "code",
   "execution_count": 74,
   "id": "c1876c70-23be-4064-a77d-30a4ec43a7b8",
   "metadata": {},
   "outputs": [],
   "source": [
    "#线性\n",
    "class Linear:\n",
    "\n",
    "    def __init__(self,fan_in,fan_out,bias=True):\n",
    "       self.weight=torch.randn((fan_in,fan_out),generator=g)/fan_in**0.5  #权重\n",
    "       self.bias=torch.zeros(fan_out) if bias else None                   #偏差\n",
    "    def __call__(self,x):\n",
    "        self.out=x@self.weight\n",
    "        if self.bias is not None:\n",
    "          self.out+=self.bias\n",
    "        return self.out\n",
    "    def parameters(self):\n",
    "        return [self.weight] + ([] if self.bias is None else [self.bias])\n",
    "\n",
    "#批量标准化线性层\n",
    "\n",
    "class BatchNormld:\n",
    "\n",
    "    def __init__(self,dim,eps=1e-5,momentum=0.1):\n",
    "        self.eps=eps\n",
    "        self.momentum=momentum\n",
    "        self.training=True\n",
    "        self.gamma=torch.ones(dim) \n",
    "        self.beta=torch.zeros(dim) \n",
    "        self.running_mean=torch.zeros(dim)\n",
    "        self.running_var=torch.ones(dim)\n",
    "\n",
    "    def __call__(self,x):\n",
    "        \n",
    "         if self.training:\n",
    "             if x.ndim==2:\n",
    "                 dim=0\n",
    "             elif x.ndim==3:\n",
    "                 dim=(0,1)\n",
    "             xmean=x.mean(dim,keepdim=True) #均值\n",
    "             xvar=x.var(dim,keepdim=True) #方差\n",
    "         else:\n",
    "             xmean =self.running_mean\n",
    "             xvar=self.running_var\n",
    "         xhat=(x-xmean)/torch.sqrt(xvar+self.eps)#数据标准化\n",
    "         self.out=self.gamma*xhat+self.beta\n",
    "       #更新模型运行均值和方差\n",
    "         if self.training:\n",
    "             with torch.no_grad():\n",
    "                self.running_mean=(1-self.momentum)*self.running_mean+self.momentum*xmean\n",
    "                self.running_var=(1-self.momentum)*self.running_var+self.momentum*xvar\n",
    "             return self.out\n",
    "       #模型参数\n",
    "    def parameters(self):\n",
    "          \n",
    "          return[self.gamma,self.beta]\n",
    "#非线性层\n",
    "class Tanh:\n",
    "    \n",
    "    def __call__(self,x):\n",
    "      self.out=torch.tanh(x)\n",
    "      return self.out\n",
    "    def parameters(self):\n",
    "        return[]\n",
    "\n",
    "class Embeddings:\n",
    "    \n",
    "    def __init__(self,num_embeddings,embedding_dim):\n",
    "        \n",
    "        self.weight=torch.randn((num_embeddings,embedding_dim))\n",
    "        \n",
    "    def __call__(self,IX):\n",
    "        \n",
    "        self.out=self.weight[IX]\n",
    "        \n",
    "        return self.out\n",
    "        \n",
    "    def parameters(self):\n",
    "        \n",
    "        return [self.weight]\n",
    "\n",
    "class FlattenConsecutives:\n",
    "    \n",
    "    def __init__(self,n):\n",
    "        self.n=n\n",
    "        \n",
    "    def __call__(self,x):\n",
    "        \n",
    "        B, T, C = x.shape\n",
    "        x = x.view(B, T // self.n, C * self.n)\n",
    "        if x.shape[1] == 1:\n",
    "            x = x.squeeze(1)\n",
    "        self.out = x\n",
    "        return self.out\n",
    "        \n",
    "    def parameters(self):\n",
    "        return[]\n",
    "        \n",
    "class Sequentials:\n",
    "    def __init__(self,layers):\n",
    "      self.layers=layers\n",
    "    def __call__(self,x):\n",
    "       for layer in self.layers:\n",
    "        x=layer(x)\n",
    "       self.out=x\n",
    "       return self.out\n",
    "    def parameters(self):\n",
    "        return [p for layer in self.layers for p in layer.parameters()]\n",
    "\n",
    "#重新定义网络\n",
    "\n",
    "\n",
    "\n",
    "       \n",
    "    "
   ]
  },
  {
   "cell_type": "code",
   "execution_count": 75,
   "id": "550a47cc-2660-4604-be1a-b2eb07b2686c",
   "metadata": {},
   "outputs": [
    {
     "name": "stdout",
     "output_type": "stream",
     "text": [
      "135178\n"
     ]
    }
   ],
   "source": [
    "n_embd=24#字符向量嵌入维度\n",
    "n_hidden=128 #多层感知器中隐藏层中的数量\n",
    "g=torch.Generator().manual_seed(2147483647)\n",
    "\n",
    "#C=torch.randn((vocab_size,n_embd),  generator=g)\n",
    "model=Sequentials([\n",
    "    Embeddings(vocab_size,n_embd),\n",
    "    FlattenConsecutives(2),Linear(n_embd*2,n_hidden,bias=False),BatchNormld(n_hidden),Tanh(),\n",
    "    FlattenConsecutives(2),Linear(n_hidden*2,n_hidden,bias=False),BatchNormld(n_hidden),Tanh(),\n",
    "    FlattenConsecutives(2),Linear(n_hidden*2,n_hidden,bias=False),BatchNormld(n_hidden),Tanh(),\n",
    "    #Linear(         n_hidden,n_hidden),Tanh(),\n",
    "   # Linear(         n_hidden,n_hidden),Tanh(),\n",
    "   # Linear(         n_hidden,n_hidden),Tanh(),\n",
    "   # Linear(         n_hidden,n_hidden),Tanh(),\n",
    "    Linear(         n_hidden,vocab_size),\n",
    "])\n",
    "\n",
    "with torch.no_grad():\n",
    "    model.layers[-1].weight*=0.1\n",
    "  \n",
    "parameters=model.parameters()\n",
    "print(sum(p.nelement() for p in parameters))\n",
    "for p in parameters:\n",
    "    p.requires_grad=True\n",
    "\n",
    "\n",
    "\n"
   ]
  },
  {
   "cell_type": "code",
   "execution_count": 76,
   "id": "18a93df3-06e2-4631-9e2d-52f4e4fc1603",
   "metadata": {},
   "outputs": [
    {
     "name": "stdout",
     "output_type": "stream",
     "text": [
      "torch.Size([4, 8])\n"
     ]
    },
    {
     "data": {
      "text/plain": [
       "tensor([[133,  12, 184, 153, 105, 402, 334, 120],\n",
       "        [  0,   0,   0,   0,   0,   0, 209, 329],\n",
       "        [  0,   0,   0,  55,  78, 182, 130, 179],\n",
       "        [  0,   0,   0,   0, 209,   7,  67, 336]])"
      ]
     },
     "execution_count": 76,
     "metadata": {},
     "output_type": "execute_result"
    }
   ],
   "source": [
    "ix=torch.randint(0,Xtr.shape[0],(4,))\n",
    "Xb,Yb=Xtr[ix],Ytr[ix]\n",
    "#logits=model(Xb)\n",
    "print(Xb.shape)\n",
    "Xb"
   ]
  },
  {
   "cell_type": "code",
   "execution_count": null,
   "id": "31ed9cec-c48a-4371-91c3-74efe2f5f746",
   "metadata": {},
   "outputs": [],
   "source": []
  },
  {
   "cell_type": "code",
   "execution_count": 77,
   "id": "366eb73b-6f1c-4450-9663-eccf58bfc03a",
   "metadata": {},
   "outputs": [
    {
     "ename": "AttributeError",
     "evalue": "'Embeddings' object has no attribute 'out'",
     "output_type": "error",
     "traceback": [
      "\u001b[1;31m---------------------------------------------------------------------------\u001b[0m",
      "\u001b[1;31mAttributeError\u001b[0m                            Traceback (most recent call last)",
      "Cell \u001b[1;32mIn[77], line 1\u001b[0m\n\u001b[1;32m----> 1\u001b[0m \u001b[43mmodel\u001b[49m\u001b[38;5;241;43m.\u001b[39;49m\u001b[43mlayers\u001b[49m\u001b[43m[\u001b[49m\u001b[38;5;241;43m0\u001b[39;49m\u001b[43m]\u001b[49m\u001b[38;5;241;43m.\u001b[39;49m\u001b[43mout\u001b[49m\u001b[38;5;241m.\u001b[39mshape\n",
      "\u001b[1;31mAttributeError\u001b[0m: 'Embeddings' object has no attribute 'out'"
     ]
    }
   ],
   "source": [
    "model.layers[0].out.shape"
   ]
  },
  {
   "cell_type": "code",
   "execution_count": 59,
   "id": "4bcb2b00-b861-4232-baeb-d99ff153f24c",
   "metadata": {},
   "outputs": [
    {
     "ename": "AttributeError",
     "evalue": "'FlattenConsecutives' object has no attribute 'out'",
     "output_type": "error",
     "traceback": [
      "\u001b[1;31m---------------------------------------------------------------------------\u001b[0m",
      "\u001b[1;31mAttributeError\u001b[0m                            Traceback (most recent call last)",
      "Cell \u001b[1;32mIn[59], line 1\u001b[0m\n\u001b[1;32m----> 1\u001b[0m \u001b[43mmodel\u001b[49m\u001b[38;5;241;43m.\u001b[39;49m\u001b[43mlayers\u001b[49m\u001b[43m[\u001b[49m\u001b[38;5;241;43m1\u001b[39;49m\u001b[43m]\u001b[49m\u001b[38;5;241;43m.\u001b[39;49m\u001b[43mout\u001b[49m\u001b[38;5;241m.\u001b[39mshape\n",
      "\u001b[1;31mAttributeError\u001b[0m: 'FlattenConsecutives' object has no attribute 'out'"
     ]
    }
   ],
   "source": [
    "model.layers[1].out.shape"
   ]
  },
  {
   "cell_type": "code",
   "execution_count": 60,
   "id": "267dee7c-0e66-4b40-9460-e17c00b22305",
   "metadata": {},
   "outputs": [
    {
     "ename": "AttributeError",
     "evalue": "'Linear' object has no attribute 'out'",
     "output_type": "error",
     "traceback": [
      "\u001b[1;31m---------------------------------------------------------------------------\u001b[0m",
      "\u001b[1;31mAttributeError\u001b[0m                            Traceback (most recent call last)",
      "Cell \u001b[1;32mIn[60], line 1\u001b[0m\n\u001b[1;32m----> 1\u001b[0m \u001b[43mmodel\u001b[49m\u001b[38;5;241;43m.\u001b[39;49m\u001b[43mlayers\u001b[49m\u001b[43m[\u001b[49m\u001b[38;5;241;43m2\u001b[39;49m\u001b[43m]\u001b[49m\u001b[38;5;241;43m.\u001b[39;49m\u001b[43mout\u001b[49m\u001b[38;5;241m.\u001b[39mshape\n",
      "\u001b[1;31mAttributeError\u001b[0m: 'Linear' object has no attribute 'out'"
     ]
    }
   ],
   "source": [
    "model.layers[2].out.shape"
   ]
  },
  {
   "cell_type": "code",
   "execution_count": 61,
   "id": "e93c2090-30da-4e97-b404-e4bb22a085ab",
   "metadata": {},
   "outputs": [
    {
     "data": {
      "text/plain": [
       "torch.Size([4, 200])"
      ]
     },
     "execution_count": 61,
     "metadata": {},
     "output_type": "execute_result"
    }
   ],
   "source": [
    "(torch.randn(4,80)@torch.randn(80,200)+torch.randn(200)).shape"
   ]
  },
  {
   "cell_type": "code",
   "execution_count": 62,
   "id": "2ecd2287-a387-451c-97fe-a475274df46c",
   "metadata": {},
   "outputs": [
    {
     "ename": "AttributeError",
     "evalue": "'Embeddings' object has no attribute 'out'",
     "output_type": "error",
     "traceback": [
      "\u001b[1;31m---------------------------------------------------------------------------\u001b[0m",
      "\u001b[1;31mAttributeError\u001b[0m                            Traceback (most recent call last)",
      "Cell \u001b[1;32mIn[62], line 2\u001b[0m\n\u001b[0;32m      1\u001b[0m \u001b[38;5;28;01mfor\u001b[39;00m layer \u001b[38;5;129;01min\u001b[39;00m model\u001b[38;5;241m.\u001b[39mlayers:\n\u001b[1;32m----> 2\u001b[0m     \u001b[38;5;28mprint\u001b[39m(layer\u001b[38;5;241m.\u001b[39m\u001b[38;5;18m__class__\u001b[39m\u001b[38;5;241m.\u001b[39m\u001b[38;5;18m__name__\u001b[39m,\u001b[38;5;124m'\u001b[39m\u001b[38;5;124m:\u001b[39m\u001b[38;5;124m'\u001b[39m,\u001b[38;5;28mtuple\u001b[39m(\u001b[43mlayer\u001b[49m\u001b[38;5;241;43m.\u001b[39;49m\u001b[43mout\u001b[49m\u001b[38;5;241m.\u001b[39mshape))\n",
      "\u001b[1;31mAttributeError\u001b[0m: 'Embeddings' object has no attribute 'out'"
     ]
    }
   ],
   "source": [
    "for layer in model.layers:\n",
    "    print(layer.__class__.__name__,':',tuple(layer.out.shape))"
   ]
  },
  {
   "cell_type": "code",
   "execution_count": 85,
   "id": "8cb52a6c-093d-45f4-a250-20d907ec95e3",
   "metadata": {},
   "outputs": [
    {
     "data": {
      "text/plain": [
       "torch.Size([32, 4, 68])"
      ]
     },
     "execution_count": 85,
     "metadata": {},
     "output_type": "execute_result"
    }
   ],
   "source": [
    "\n",
    "e=torch.randn(32,4,68)\n",
    "emean=e.mean(0,keepdim=True)\n",
    "evar=e.var(0,keepdim=True)\n",
    "ehat=(e-emean)/torch.sqrt(evar+1e-5)\n",
    "ehat.shape"
   ]
  },
  {
   "cell_type": "code",
   "execution_count": 86,
   "id": "e5c92dfc-47ab-4295-98ce-fc92b4db8b3b",
   "metadata": {},
   "outputs": [
    {
     "data": {
      "text/plain": [
       "<__main__.Embedding at 0x240c80c1bd0>"
      ]
     },
     "execution_count": 86,
     "metadata": {},
     "output_type": "execute_result"
    }
   ],
   "source": [
    "model.layers[0]"
   ]
  },
  {
   "cell_type": "code",
   "execution_count": 87,
   "id": "6ce6b735-0573-4944-ad47-7d10b29814d0",
   "metadata": {},
   "outputs": [
    {
     "data": {
      "text/plain": [
       "[1, 3, 5, 7, 9]"
      ]
     },
     "execution_count": 87,
     "metadata": {},
     "output_type": "execute_result"
    }
   ],
   "source": [
    "list(range(10))[1::2]"
   ]
  },
  {
   "cell_type": "code",
   "execution_count": 88,
   "id": "c7d280ac-a69e-4483-a09a-651318b7da4c",
   "metadata": {},
   "outputs": [
    {
     "data": {
      "text/plain": [
       "torch.Size([4, 4, 20])"
      ]
     },
     "execution_count": 88,
     "metadata": {},
     "output_type": "execute_result"
    }
   ],
   "source": [
    "e=torch.randn(4,8,10)\n",
    "explicit=torch.cat([e[:,::2,:],e[:,1::2,:]],dim=2)\n",
    "explicit.shape"
   ]
  },
  {
   "cell_type": "code",
   "execution_count": 89,
   "id": "467c09e2-aab1-4967-b799-d20f40aa65f2",
   "metadata": {},
   "outputs": [
    {
     "data": {
      "text/plain": [
       "tensor(True)"
      ]
     },
     "execution_count": 89,
     "metadata": {},
     "output_type": "execute_result"
    }
   ],
   "source": [
    "(e.view(4,4,20)==explicit).all()"
   ]
  },
  {
   "cell_type": "code",
   "execution_count": 90,
   "id": "e0c02a1c-8eb2-435c-8e11-f53abcac5036",
   "metadata": {},
   "outputs": [
    {
     "data": {
      "text/plain": [
       "torch.Size([182625, 3])"
      ]
     },
     "execution_count": 90,
     "metadata": {},
     "output_type": "execute_result"
    }
   ],
   "source": [
    "Xtr.shape"
   ]
  },
  {
   "cell_type": "code",
   "execution_count": 91,
   "id": "9c81bbc6-fca3-4f62-b052-84e759597aab",
   "metadata": {},
   "outputs": [
    {
     "data": {
      "text/plain": [
       "tensor([[ 9, 20, 14],\n",
       "        [ 0,  3,  1],\n",
       "        [12,  5, 24],\n",
       "        [ 5, 25, 12],\n",
       "        [ 0,  0,  0],\n",
       "        [ 0, 24,  5],\n",
       "        [ 1, 21, 18],\n",
       "        [ 0,  0, 11],\n",
       "        [ 5,  5, 13],\n",
       "        [ 0,  0,  0],\n",
       "        [ 0,  0,  2],\n",
       "        [ 0,  0,  0],\n",
       "        [19,  5, 14],\n",
       "        [21, 19, 20],\n",
       "        [ 0,  0, 10],\n",
       "        [ 1, 14, 14],\n",
       "        [ 0,  0,  0],\n",
       "        [ 2, 18,  9],\n",
       "        [ 0,  0,  1],\n",
       "        [ 0,  0,  0],\n",
       "        [ 1, 25,  1],\n",
       "        [ 0,  0,  0],\n",
       "        [ 0,  0, 18],\n",
       "        [ 0,  1, 12],\n",
       "        [10,  1, 19],\n",
       "        [ 0,  3, 18],\n",
       "        [25, 11,  9],\n",
       "        [15, 21, 18],\n",
       "        [20,  8,  5],\n",
       "        [ 0,  0,  0],\n",
       "        [ 0, 18,  1],\n",
       "        [25, 14, 14]])"
      ]
     },
     "execution_count": 91,
     "metadata": {},
     "output_type": "execute_result"
    }
   ],
   "source": [
    " Xb,Yb=Xtr[ix],Ytr[ix]\n",
    "Xb"
   ]
  },
  {
   "cell_type": "code",
   "execution_count": 92,
   "id": "39538c62-9531-426c-b990-47eab4497c0e",
   "metadata": {},
   "outputs": [
    {
     "ename": "RuntimeError",
     "evalue": "shape '[32, 1, 48]' is invalid for input of size 2304",
     "output_type": "error",
     "traceback": [
      "\u001b[1;31m---------------------------------------------------------------------------\u001b[0m",
      "\u001b[1;31mRuntimeError\u001b[0m                              Traceback (most recent call last)",
      "Cell \u001b[1;32mIn[92], line 13\u001b[0m\n\u001b[0;32m      8\u001b[0m     Xb,Yb\u001b[38;5;241m=\u001b[39mXtr[ix],Ytr[ix]\n\u001b[0;32m      9\u001b[0m \u001b[38;5;66;03m#向前传递\u001b[39;00m\n\u001b[0;32m     10\u001b[0m     \u001b[38;5;66;03m#emb=C[Xb]\u001b[39;00m\n\u001b[0;32m     11\u001b[0m     \u001b[38;5;66;03m#x=emb.view(emb.shape[0],-1)\u001b[39;00m\n\u001b[1;32m---> 13\u001b[0m     logits\u001b[38;5;241m=\u001b[39m\u001b[43mmodel\u001b[49m\u001b[43m(\u001b[49m\u001b[43mXb\u001b[49m\u001b[43m)\u001b[49m\n\u001b[0;32m     16\u001b[0m     loss \u001b[38;5;241m=\u001b[39m F\u001b[38;5;241m.\u001b[39mcross_entropy(logits,Yb)\u001b[38;5;66;03m#损失函数\u001b[39;00m\n\u001b[0;32m     18\u001b[0m     \u001b[38;5;28;01mfor\u001b[39;00m p \u001b[38;5;129;01min\u001b[39;00m parameters:\n",
      "Cell \u001b[1;32mIn[65], line 99\u001b[0m, in \u001b[0;36mSequential.__call__\u001b[1;34m(self, x)\u001b[0m\n\u001b[0;32m     97\u001b[0m \u001b[38;5;28;01mdef\u001b[39;00m \u001b[38;5;21m__call__\u001b[39m(\u001b[38;5;28mself\u001b[39m,x):\n\u001b[0;32m     98\u001b[0m    \u001b[38;5;28;01mfor\u001b[39;00m layer \u001b[38;5;129;01min\u001b[39;00m \u001b[38;5;28mself\u001b[39m\u001b[38;5;241m.\u001b[39mlayers:\n\u001b[1;32m---> 99\u001b[0m     x\u001b[38;5;241m=\u001b[39m\u001b[43mlayer\u001b[49m\u001b[43m(\u001b[49m\u001b[43mx\u001b[49m\u001b[43m)\u001b[49m\n\u001b[0;32m    100\u001b[0m    \u001b[38;5;28mself\u001b[39m\u001b[38;5;241m.\u001b[39mout\u001b[38;5;241m=\u001b[39mx\n\u001b[0;32m    101\u001b[0m    \u001b[38;5;28;01mreturn\u001b[39;00m \u001b[38;5;28mself\u001b[39m\u001b[38;5;241m.\u001b[39mout\n",
      "Cell \u001b[1;32mIn[65], line 85\u001b[0m, in \u001b[0;36mFlattenConsecutive.__call__\u001b[1;34m(self, x)\u001b[0m\n\u001b[0;32m     82\u001b[0m \u001b[38;5;28;01mdef\u001b[39;00m \u001b[38;5;21m__call__\u001b[39m(\u001b[38;5;28mself\u001b[39m,x):\n\u001b[0;32m     84\u001b[0m     B, T, C \u001b[38;5;241m=\u001b[39m x\u001b[38;5;241m.\u001b[39mshape\n\u001b[1;32m---> 85\u001b[0m     x \u001b[38;5;241m=\u001b[39m \u001b[43mx\u001b[49m\u001b[38;5;241;43m.\u001b[39;49m\u001b[43mview\u001b[49m\u001b[43m(\u001b[49m\u001b[43mB\u001b[49m\u001b[43m,\u001b[49m\u001b[43m \u001b[49m\u001b[43mT\u001b[49m\u001b[43m \u001b[49m\u001b[38;5;241;43m/\u001b[39;49m\u001b[38;5;241;43m/\u001b[39;49m\u001b[43m \u001b[49m\u001b[38;5;28;43mself\u001b[39;49m\u001b[38;5;241;43m.\u001b[39;49m\u001b[43mn\u001b[49m\u001b[43m,\u001b[49m\u001b[43m \u001b[49m\u001b[43mC\u001b[49m\u001b[43m \u001b[49m\u001b[38;5;241;43m*\u001b[39;49m\u001b[43m \u001b[49m\u001b[38;5;28;43mself\u001b[39;49m\u001b[38;5;241;43m.\u001b[39;49m\u001b[43mn\u001b[49m\u001b[43m)\u001b[49m\n\u001b[0;32m     86\u001b[0m     \u001b[38;5;28;01mif\u001b[39;00m x\u001b[38;5;241m.\u001b[39mshape[\u001b[38;5;241m1\u001b[39m] \u001b[38;5;241m==\u001b[39m \u001b[38;5;241m1\u001b[39m:\n\u001b[0;32m     87\u001b[0m         x \u001b[38;5;241m=\u001b[39m x\u001b[38;5;241m.\u001b[39msqueeze(\u001b[38;5;241m1\u001b[39m)\n",
      "\u001b[1;31mRuntimeError\u001b[0m: shape '[32, 1, 48]' is invalid for input of size 2304"
     ]
    }
   ],
   "source": [
    "max_steps=200000\n",
    "batch_size=32\n",
    "lossa=[]\n",
    "\n",
    "for i in range(max_steps):\n",
    "    \n",
    "    ix=torch.randint(0,Xtr.shape[0],(batch_size,))\n",
    "    Xb,Yb=Xtr[ix],Ytr[ix]\n",
    "#向前传递\n",
    "    #emb=C[Xb]\n",
    "    #x=emb.view(emb.shape[0],-1)\n",
    "    \n",
    "    logits=model(Xb)\n",
    "  \n",
    "   \n",
    "    loss = F.cross_entropy(logits,Yb)#损失函数\n",
    "  \n",
    "    for p in parameters:\n",
    "       p.grad = None\n",
    "    loss.backward()\n",
    "\n",
    "    lr =0.1 if i<150000 else 0.01 #速率\n",
    "    \n",
    "    for p in parameters:\n",
    "      p.data += -lr * p.grad\n",
    "      \n",
    "\n",
    "    if i%10000 == 0:\n",
    "      print(f':{i:7d}/{max_steps:7d}:{loss.item():.4f}')\n",
    "    lossa.append(loss.log10().item())   \n",
    "   # with torch.no_grad():\n",
    "   #   ud.append([(lr*p.grad.std()/p.data.std()).log().item() for p in parameters])\n",
    "     \n",
    "\n",
    "    \n",
    "\n",
    "    "
   ]
  },
  {
   "cell_type": "code",
   "execution_count": null,
   "id": "001757c0-1edc-4873-b3c7-cd5fcdfd947e",
   "metadata": {},
   "outputs": [],
   "source": []
  },
  {
   "cell_type": "code",
   "execution_count": 80,
   "id": "eaabe195-773d-4aa7-bef7-28c308e4455f",
   "metadata": {},
   "outputs": [
    {
     "data": {
      "text/plain": [
       "[<matplotlib.lines.Line2D at 0x240c82cab50>]"
      ]
     },
     "execution_count": 80,
     "metadata": {},
     "output_type": "execute_result"
    },
    {
     "data": {
      "image/png": "[encoded data removed]",
      "text/plain": [
       "<Figure size 640x480 with 1 Axes>"
      ]
     },
     "metadata": {},
     "output_type": "display_data"
    }
   ],
   "source": [
    "plt.plot(torch.tensor(lossa).view(-1,1000).mean(1))"
   ]
  },
  {
   "cell_type": "code",
   "execution_count": 102,
   "id": "ec618a1b-d8c3-4f4a-9b9e-7f6787364ae2",
   "metadata": {},
   "outputs": [
    {
     "data": {
      "text/plain": [
       "tensor([[0, 1, 2, 3, 4],\n",
       "        [5, 6, 7, 8, 9]])"
      ]
     },
     "execution_count": 102,
     "metadata": {},
     "output_type": "execute_result"
    }
   ],
   "source": [
    "torch.arange(10).view(-1,5)"
   ]
  },
  {
   "cell_type": "code",
   "execution_count": 107,
   "id": "907d0966-a2a6-47db-bf0e-acdf44676b75",
   "metadata": {},
   "outputs": [],
   "source": [
    "for layer in model.layers:\n",
    "    layer.training=False"
   ]
  },
  {
   "cell_type": "code",
   "execution_count": null,
   "id": "773fec2b-1653-42fe-b86a-99774cf9ef55",
   "metadata": {},
   "outputs": [],
   "source": []
  },
  {
   "cell_type": "code",
   "execution_count": 106,
   "id": "6612676c-6419-4562-a601-fe3a509957df",
   "metadata": {},
   "outputs": [
    {
     "ename": "IndexError",
     "evalue": "index 27 is out of bounds for dimension 0 with size 27",
     "output_type": "error",
     "traceback": [
      "\u001b[1;31m---------------------------------------------------------------------------\u001b[0m",
      "\u001b[1;31mIndexError\u001b[0m                                Traceback (most recent call last)",
      "Cell \u001b[1;32mIn[106], line 16\u001b[0m\n\u001b[0;32m     13\u001b[0m   loss\u001b[38;5;241m=\u001b[39mF\u001b[38;5;241m.\u001b[39mcross_entropy(logits,y)\n\u001b[0;32m     14\u001b[0m   \u001b[38;5;28mprint\u001b[39m(split,loss\u001b[38;5;241m.\u001b[39mitem())\n\u001b[1;32m---> 16\u001b[0m \u001b[43msplit_loss\u001b[49m\u001b[43m(\u001b[49m\u001b[38;5;124;43m'\u001b[39;49m\u001b[38;5;124;43mtrain\u001b[39;49m\u001b[38;5;124;43m'\u001b[39;49m\u001b[43m)\u001b[49m\n\u001b[0;32m     17\u001b[0m split_loss(\u001b[38;5;124m'\u001b[39m\u001b[38;5;124mval\u001b[39m\u001b[38;5;124m'\u001b[39m)\n",
      "File \u001b[1;32m~\\AppData\\Local\\Packages\\PythonSoftwareFoundation.Python.3.11_qbz5n2kfra8p0\\LocalCache\\local-packages\\Python311\\site-packages\\torch\\utils\\_contextlib.py:115\u001b[0m, in \u001b[0;36mcontext_decorator.<locals>.decorate_context\u001b[1;34m(*args, **kwargs)\u001b[0m\n\u001b[0;32m    112\u001b[0m \u001b[38;5;129m@functools\u001b[39m\u001b[38;5;241m.\u001b[39mwraps(func)\n\u001b[0;32m    113\u001b[0m \u001b[38;5;28;01mdef\u001b[39;00m \u001b[38;5;21mdecorate_context\u001b[39m(\u001b[38;5;241m*\u001b[39margs, \u001b[38;5;241m*\u001b[39m\u001b[38;5;241m*\u001b[39mkwargs):\n\u001b[0;32m    114\u001b[0m     \u001b[38;5;28;01mwith\u001b[39;00m ctx_factory():\n\u001b[1;32m--> 115\u001b[0m         \u001b[38;5;28;01mreturn\u001b[39;00m \u001b[43mfunc\u001b[49m\u001b[43m(\u001b[49m\u001b[38;5;241;43m*\u001b[39;49m\u001b[43margs\u001b[49m\u001b[43m,\u001b[49m\u001b[43m \u001b[49m\u001b[38;5;241;43m*\u001b[39;49m\u001b[38;5;241;43m*\u001b[39;49m\u001b[43mkwargs\u001b[49m\u001b[43m)\u001b[49m\n",
      "Cell \u001b[1;32mIn[106], line 11\u001b[0m, in \u001b[0;36msplit_loss\u001b[1;34m(split)\u001b[0m\n\u001b[0;32m      3\u001b[0m \u001b[38;5;129m@torch\u001b[39m\u001b[38;5;241m.\u001b[39mno_grad()\n\u001b[0;32m      4\u001b[0m \u001b[38;5;28;01mdef\u001b[39;00m \u001b[38;5;21msplit_loss\u001b[39m(split):\n\u001b[0;32m      5\u001b[0m   x,y \u001b[38;5;241m=\u001b[39m{\n\u001b[0;32m      6\u001b[0m     \u001b[38;5;124m'\u001b[39m\u001b[38;5;124mtrain\u001b[39m\u001b[38;5;124m'\u001b[39m:(Xtr,Ytr),\n\u001b[0;32m      7\u001b[0m     \u001b[38;5;124m'\u001b[39m\u001b[38;5;124mval\u001b[39m\u001b[38;5;124m'\u001b[39m:(Xdev,Ydev),\n\u001b[0;32m      8\u001b[0m     \u001b[38;5;124m'\u001b[39m\u001b[38;5;124mtest\u001b[39m\u001b[38;5;124m'\u001b[39m:(Xte,Yte),\n\u001b[0;32m      9\u001b[0m }[split]\n\u001b[1;32m---> 11\u001b[0m   logits\u001b[38;5;241m=\u001b[39m\u001b[43mmodel\u001b[49m\u001b[43m(\u001b[49m\u001b[43mx\u001b[49m\u001b[43m)\u001b[49m\n\u001b[0;32m     13\u001b[0m   loss\u001b[38;5;241m=\u001b[39mF\u001b[38;5;241m.\u001b[39mcross_entropy(logits,y)\n\u001b[0;32m     14\u001b[0m   \u001b[38;5;28mprint\u001b[39m(split,loss\u001b[38;5;241m.\u001b[39mitem())\n",
      "Cell \u001b[1;32mIn[65], line 99\u001b[0m, in \u001b[0;36mSequential.__call__\u001b[1;34m(self, x)\u001b[0m\n\u001b[0;32m     97\u001b[0m \u001b[38;5;28;01mdef\u001b[39;00m \u001b[38;5;21m__call__\u001b[39m(\u001b[38;5;28mself\u001b[39m,x):\n\u001b[0;32m     98\u001b[0m    \u001b[38;5;28;01mfor\u001b[39;00m layer \u001b[38;5;129;01min\u001b[39;00m \u001b[38;5;28mself\u001b[39m\u001b[38;5;241m.\u001b[39mlayers:\n\u001b[1;32m---> 99\u001b[0m     x\u001b[38;5;241m=\u001b[39m\u001b[43mlayer\u001b[49m\u001b[43m(\u001b[49m\u001b[43mx\u001b[49m\u001b[43m)\u001b[49m\n\u001b[0;32m    100\u001b[0m    \u001b[38;5;28mself\u001b[39m\u001b[38;5;241m.\u001b[39mout\u001b[38;5;241m=\u001b[39mx\n\u001b[0;32m    101\u001b[0m    \u001b[38;5;28;01mreturn\u001b[39;00m \u001b[38;5;28mself\u001b[39m\u001b[38;5;241m.\u001b[39mout\n",
      "Cell \u001b[1;32mIn[65], line 69\u001b[0m, in \u001b[0;36mEmbedding.__call__\u001b[1;34m(self, IX)\u001b[0m\n\u001b[0;32m     67\u001b[0m \u001b[38;5;28;01mdef\u001b[39;00m \u001b[38;5;21m__call__\u001b[39m(\u001b[38;5;28mself\u001b[39m,IX):\n\u001b[1;32m---> 69\u001b[0m     \u001b[38;5;28mself\u001b[39m\u001b[38;5;241m.\u001b[39mout\u001b[38;5;241m=\u001b[39m\u001b[38;5;28;43mself\u001b[39;49m\u001b[38;5;241;43m.\u001b[39;49m\u001b[43mweight\u001b[49m\u001b[43m[\u001b[49m\u001b[43mIX\u001b[49m\u001b[43m]\u001b[49m\n\u001b[0;32m     71\u001b[0m     \u001b[38;5;28;01mreturn\u001b[39;00m \u001b[38;5;28mself\u001b[39m\u001b[38;5;241m.\u001b[39mout\n",
      "\u001b[1;31mIndexError\u001b[0m: index 27 is out of bounds for dimension 0 with size 27"
     ]
    }
   ],
   "source": [
    "#计算loss\n",
    "\n",
    "@torch.no_grad()\n",
    "def split_loss(split):\n",
    "  x,y ={\n",
    "    'train':(Xtr,Ytr),\n",
    "    'val':(Xdev,Ydev),\n",
    "    'test':(Xte,Yte),\n",
    "}[split]\n",
    "\n",
    "  logits=model(x)\n",
    "    \n",
    "  loss=F.cross_entropy(logits,y)\n",
    "  print(split,loss.item())\n",
    "\n",
    "split_loss('train')\n",
    "split_loss('val')"
   ]
  },
  {
   "cell_type": "code",
   "execution_count": null,
   "id": "008e5a3d-e589-469f-b65e-c55e273c3932",
   "metadata": {},
   "outputs": [],
   "source": []
  },
  {
   "cell_type": "code",
   "execution_count": 93,
   "id": "2b2d890b-cd6c-4866-9296-2597c5d51c17",
   "metadata": {},
   "outputs": [
    {
     "ename": "RuntimeError",
     "evalue": "shape '[1, 1, 48]' is invalid for input of size 72",
     "output_type": "error",
     "traceback": [
      "\u001b[1;31m---------------------------------------------------------------------------\u001b[0m",
      "\u001b[1;31mRuntimeError\u001b[0m                              Traceback (most recent call last)",
      "Cell \u001b[1;32mIn[93], line 9\u001b[0m\n\u001b[0;32m      6\u001b[0m context \u001b[38;5;241m=\u001b[39m [\u001b[38;5;241m0\u001b[39m]\u001b[38;5;241m*\u001b[39mblock_size\n\u001b[0;32m      7\u001b[0m \u001b[38;5;28;01mwhile\u001b[39;00m \u001b[38;5;28;01mTrue\u001b[39;00m:\n\u001b[1;32m----> 9\u001b[0m   logits \u001b[38;5;241m=\u001b[39m\u001b[43mmodel\u001b[49m\u001b[43m(\u001b[49m\u001b[43mtorch\u001b[49m\u001b[38;5;241;43m.\u001b[39;49m\u001b[43mtensor\u001b[49m\u001b[43m(\u001b[49m\u001b[43m[\u001b[49m\u001b[43mcontext\u001b[49m\u001b[43m]\u001b[49m\u001b[43m)\u001b[49m\u001b[43m)\u001b[49m\n\u001b[0;32m     10\u001b[0m   probs\u001b[38;5;241m=\u001b[39mF\u001b[38;5;241m.\u001b[39msoftmax(logits,dim\u001b[38;5;241m=\u001b[39m\u001b[38;5;241m1\u001b[39m)\n\u001b[0;32m     11\u001b[0m   ix \u001b[38;5;241m=\u001b[39m torch\u001b[38;5;241m.\u001b[39mmultinomial(probs,num_samples\u001b[38;5;241m=\u001b[39m\u001b[38;5;241m1\u001b[39m)\u001b[38;5;241m.\u001b[39mitem()\n",
      "Cell \u001b[1;32mIn[65], line 99\u001b[0m, in \u001b[0;36mSequential.__call__\u001b[1;34m(self, x)\u001b[0m\n\u001b[0;32m     97\u001b[0m \u001b[38;5;28;01mdef\u001b[39;00m \u001b[38;5;21m__call__\u001b[39m(\u001b[38;5;28mself\u001b[39m,x):\n\u001b[0;32m     98\u001b[0m    \u001b[38;5;28;01mfor\u001b[39;00m layer \u001b[38;5;129;01min\u001b[39;00m \u001b[38;5;28mself\u001b[39m\u001b[38;5;241m.\u001b[39mlayers:\n\u001b[1;32m---> 99\u001b[0m     x\u001b[38;5;241m=\u001b[39m\u001b[43mlayer\u001b[49m\u001b[43m(\u001b[49m\u001b[43mx\u001b[49m\u001b[43m)\u001b[49m\n\u001b[0;32m    100\u001b[0m    \u001b[38;5;28mself\u001b[39m\u001b[38;5;241m.\u001b[39mout\u001b[38;5;241m=\u001b[39mx\n\u001b[0;32m    101\u001b[0m    \u001b[38;5;28;01mreturn\u001b[39;00m \u001b[38;5;28mself\u001b[39m\u001b[38;5;241m.\u001b[39mout\n",
      "Cell \u001b[1;32mIn[65], line 85\u001b[0m, in \u001b[0;36mFlattenConsecutive.__call__\u001b[1;34m(self, x)\u001b[0m\n\u001b[0;32m     82\u001b[0m \u001b[38;5;28;01mdef\u001b[39;00m \u001b[38;5;21m__call__\u001b[39m(\u001b[38;5;28mself\u001b[39m,x):\n\u001b[0;32m     84\u001b[0m     B, T, C \u001b[38;5;241m=\u001b[39m x\u001b[38;5;241m.\u001b[39mshape\n\u001b[1;32m---> 85\u001b[0m     x \u001b[38;5;241m=\u001b[39m \u001b[43mx\u001b[49m\u001b[38;5;241;43m.\u001b[39;49m\u001b[43mview\u001b[49m\u001b[43m(\u001b[49m\u001b[43mB\u001b[49m\u001b[43m,\u001b[49m\u001b[43m \u001b[49m\u001b[43mT\u001b[49m\u001b[43m \u001b[49m\u001b[38;5;241;43m/\u001b[39;49m\u001b[38;5;241;43m/\u001b[39;49m\u001b[43m \u001b[49m\u001b[38;5;28;43mself\u001b[39;49m\u001b[38;5;241;43m.\u001b[39;49m\u001b[43mn\u001b[49m\u001b[43m,\u001b[49m\u001b[43m \u001b[49m\u001b[43mC\u001b[49m\u001b[43m \u001b[49m\u001b[38;5;241;43m*\u001b[39;49m\u001b[43m \u001b[49m\u001b[38;5;28;43mself\u001b[39;49m\u001b[38;5;241;43m.\u001b[39;49m\u001b[43mn\u001b[49m\u001b[43m)\u001b[49m\n\u001b[0;32m     86\u001b[0m     \u001b[38;5;28;01mif\u001b[39;00m x\u001b[38;5;241m.\u001b[39mshape[\u001b[38;5;241m1\u001b[39m] \u001b[38;5;241m==\u001b[39m \u001b[38;5;241m1\u001b[39m:\n\u001b[0;32m     87\u001b[0m         x \u001b[38;5;241m=\u001b[39m x\u001b[38;5;241m.\u001b[39msqueeze(\u001b[38;5;241m1\u001b[39m)\n",
      "\u001b[1;31mRuntimeError\u001b[0m: shape '[1, 1, 48]' is invalid for input of size 72"
     ]
    }
   ],
   "source": [
    "#从模型中采样\n",
    "\n",
    "for _ in range(20):\n",
    "\n",
    "    out=[]\n",
    "    context = [0]*block_size\n",
    "    while True:\n",
    "    \n",
    "      logits =model(torch.tensor([context]))\n",
    "      probs=F.softmax(logits,dim=1)\n",
    "      ix = torch.multinomial(probs,num_samples=1).item()\n",
    "      \n",
    "      context=context[1:]+[ix]\n",
    "      out.append(ix)\n",
    "\n",
    "      if ix ==0:\n",
    "        break\n",
    "    print(''.join(itos[i] for i in out))  "
   ]
  },
  {
   "cell_type": "code",
   "execution_count": 106,
   "id": "7e4d4429-67f8-48cb-a609-e21815bf7726",
   "metadata": {},
   "outputs": [
    {
     "name": "stdout",
     "output_type": "stream",
     "text": [
      "红的希 --> 望\n",
      "的希望 -->  \n",
      "希望  --> 南\n",
      "望 南 --> 方\n",
      " 南方 --> 有\n",
      "南方有 --> 温\n",
      "方有温 --> 暖\n",
      "有温暖 --> 的\n"
     ]
    }
   ],
   "source": [
    "for x,y in zip(Xtr[7:15],Ytr[7:15]):\n",
    "    print(''.join(itos[ix.item()]for ix in x),'-->',itos[y.item()])"
   ]
  },
  {
   "cell_type": "code",
   "execution_count": 94,
   "id": "6c6c7424-459d-4d84-96ea-4cf0ed82fe76",
   "metadata": {},
   "outputs": [
    {
     "data": {
      "text/plain": [
       "tensor([[0, 0, 0]])"
      ]
     },
     "execution_count": 94,
     "metadata": {},
     "output_type": "execute_result"
    }
   ],
   "source": [
    "Xtr[[7]]"
   ]
  },
  {
   "cell_type": "code",
   "execution_count": 95,
   "id": "8b28dc8a-7b37-47b4-8497-7f5edc36765e",
   "metadata": {},
   "outputs": [
    {
     "ename": "RuntimeError",
     "evalue": "shape '[1, 1, 48]' is invalid for input of size 72",
     "output_type": "error",
     "traceback": [
      "\u001b[1;31m---------------------------------------------------------------------------\u001b[0m",
      "\u001b[1;31mRuntimeError\u001b[0m                              Traceback (most recent call last)",
      "Cell \u001b[1;32mIn[95], line 1\u001b[0m\n\u001b[1;32m----> 1\u001b[0m logits\u001b[38;5;241m=\u001b[39m\u001b[43mmodel\u001b[49m\u001b[43m(\u001b[49m\u001b[43mXtr\u001b[49m\u001b[43m[\u001b[49m\u001b[43m[\u001b[49m\u001b[38;5;241;43m7\u001b[39;49m\u001b[43m]\u001b[49m\u001b[43m]\u001b[49m\u001b[43m)\u001b[49m\n\u001b[0;32m      2\u001b[0m logits\u001b[38;5;241m.\u001b[39mshape\n",
      "Cell \u001b[1;32mIn[65], line 99\u001b[0m, in \u001b[0;36mSequential.__call__\u001b[1;34m(self, x)\u001b[0m\n\u001b[0;32m     97\u001b[0m \u001b[38;5;28;01mdef\u001b[39;00m \u001b[38;5;21m__call__\u001b[39m(\u001b[38;5;28mself\u001b[39m,x):\n\u001b[0;32m     98\u001b[0m    \u001b[38;5;28;01mfor\u001b[39;00m layer \u001b[38;5;129;01min\u001b[39;00m \u001b[38;5;28mself\u001b[39m\u001b[38;5;241m.\u001b[39mlayers:\n\u001b[1;32m---> 99\u001b[0m     x\u001b[38;5;241m=\u001b[39m\u001b[43mlayer\u001b[49m\u001b[43m(\u001b[49m\u001b[43mx\u001b[49m\u001b[43m)\u001b[49m\n\u001b[0;32m    100\u001b[0m    \u001b[38;5;28mself\u001b[39m\u001b[38;5;241m.\u001b[39mout\u001b[38;5;241m=\u001b[39mx\n\u001b[0;32m    101\u001b[0m    \u001b[38;5;28;01mreturn\u001b[39;00m \u001b[38;5;28mself\u001b[39m\u001b[38;5;241m.\u001b[39mout\n",
      "Cell \u001b[1;32mIn[65], line 85\u001b[0m, in \u001b[0;36mFlattenConsecutive.__call__\u001b[1;34m(self, x)\u001b[0m\n\u001b[0;32m     82\u001b[0m \u001b[38;5;28;01mdef\u001b[39;00m \u001b[38;5;21m__call__\u001b[39m(\u001b[38;5;28mself\u001b[39m,x):\n\u001b[0;32m     84\u001b[0m     B, T, C \u001b[38;5;241m=\u001b[39m x\u001b[38;5;241m.\u001b[39mshape\n\u001b[1;32m---> 85\u001b[0m     x \u001b[38;5;241m=\u001b[39m \u001b[43mx\u001b[49m\u001b[38;5;241;43m.\u001b[39;49m\u001b[43mview\u001b[49m\u001b[43m(\u001b[49m\u001b[43mB\u001b[49m\u001b[43m,\u001b[49m\u001b[43m \u001b[49m\u001b[43mT\u001b[49m\u001b[43m \u001b[49m\u001b[38;5;241;43m/\u001b[39;49m\u001b[38;5;241;43m/\u001b[39;49m\u001b[43m \u001b[49m\u001b[38;5;28;43mself\u001b[39;49m\u001b[38;5;241;43m.\u001b[39;49m\u001b[43mn\u001b[49m\u001b[43m,\u001b[49m\u001b[43m \u001b[49m\u001b[43mC\u001b[49m\u001b[43m \u001b[49m\u001b[38;5;241;43m*\u001b[39;49m\u001b[43m \u001b[49m\u001b[38;5;28;43mself\u001b[39;49m\u001b[38;5;241;43m.\u001b[39;49m\u001b[43mn\u001b[49m\u001b[43m)\u001b[49m\n\u001b[0;32m     86\u001b[0m     \u001b[38;5;28;01mif\u001b[39;00m x\u001b[38;5;241m.\u001b[39mshape[\u001b[38;5;241m1\u001b[39m] \u001b[38;5;241m==\u001b[39m \u001b[38;5;241m1\u001b[39m:\n\u001b[0;32m     87\u001b[0m         x \u001b[38;5;241m=\u001b[39m x\u001b[38;5;241m.\u001b[39msqueeze(\u001b[38;5;241m1\u001b[39m)\n",
      "\u001b[1;31mRuntimeError\u001b[0m: shape '[1, 1, 48]' is invalid for input of size 72"
     ]
    }
   ],
   "source": [
    "logits=model(Xtr[[7]])\n",
    "logits.shape"
   ]
  },
  {
   "cell_type": "code",
   "execution_count": 96,
   "id": "9c1c266c-533a-413d-a699-1a44e177ca7a",
   "metadata": {},
   "outputs": [
    {
     "name": "stderr",
     "output_type": "stream",
     "text": [
      "<>:3: SyntaxWarning: 'int' object is not subscriptable; perhaps you missed a comma?\n",
      "<>:3: SyntaxWarning: 'int' object is not subscriptable; perhaps you missed a comma?\n",
      "C:\\Users\\Joe\\AppData\\Local\\Temp\\ipykernel_14652\\3255632850.py:3: SyntaxWarning: 'int' object is not subscriptable; perhaps you missed a comma?\n",
      "  logits[i]=model(Xtr[7[7*i]])\n"
     ]
    },
    {
     "ename": "TypeError",
     "evalue": "'int' object is not subscriptable",
     "output_type": "error",
     "traceback": [
      "\u001b[1;31m---------------------------------------------------------------------------\u001b[0m",
      "\u001b[1;31mTypeError\u001b[0m                                 Traceback (most recent call last)",
      "Cell \u001b[1;32mIn[96], line 3\u001b[0m\n\u001b[0;32m      1\u001b[0m logits\u001b[38;5;241m=\u001b[39mtorch\u001b[38;5;241m.\u001b[39mzeros(\u001b[38;5;241m8\u001b[39m,\u001b[38;5;241m27\u001b[39m)\n\u001b[0;32m      2\u001b[0m \u001b[38;5;28;01mfor\u001b[39;00m i \u001b[38;5;129;01min\u001b[39;00m \u001b[38;5;28mrange\u001b[39m(\u001b[38;5;241m8\u001b[39m):\n\u001b[1;32m----> 3\u001b[0m     logits[i]\u001b[38;5;241m=\u001b[39mmodel(Xtr[\u001b[38;5;241;43m7\u001b[39;49m\u001b[43m[\u001b[49m\u001b[38;5;241;43m7\u001b[39;49m\u001b[38;5;241;43m*\u001b[39;49m\u001b[43mi\u001b[49m\u001b[43m]\u001b[49m])\n\u001b[0;32m      4\u001b[0m logits\u001b[38;5;241m.\u001b[39mshape\n",
      "\u001b[1;31mTypeError\u001b[0m: 'int' object is not subscriptable"
     ]
    }
   ],
   "source": [
    "logits=torch.zeros(8,27)\n",
    "for i in range(8):\n",
    "    logits[i]=model(Xtr[7[7*i]])\n",
    "logits.shape"
   ]
  },
  {
   "cell_type": "code",
   "execution_count": null,
   "id": "0c4e14e4-b533-457b-90c7-c266b379ae07",
   "metadata": {},
   "outputs": [],
   "source": []
  },
  {
   "cell_type": "code",
   "execution_count": null,
   "id": "3b9e3cf3-25ac-43b6-a395-ea12803a0fcc",
   "metadata": {},
   "outputs": [],
   "source": []
  }
 ],
 "metadata": {
  "kernelspec": {
   "display_name": "Python 3 (ipykernel)",
   "language": "python",
   "name": "python3"
  },
  "language_info": {
   "codemirror_mode": {
    "name": "ipython",
    "version": 3
   },
   "file_extension": ".py",
   "mimetype": "text/x-python",
   "name": "python",
   "nbconvert_exporter": "python",
   "pygments_lexer": "ipython3",
   "version": "3.11.9"
  }
 },
 "nbformat": 4,
 "nbformat_minor": 5
}
